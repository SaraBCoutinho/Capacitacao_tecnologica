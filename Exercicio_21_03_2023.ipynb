{
  "nbformat": 4,
  "nbformat_minor": 0,
  "metadata": {
    "colab": {
      "provenance": [],
      "authorship_tag": "ABX9TyN75p/prFYvhVilXYMsp7YC",
      "include_colab_link": true
    },
    "kernelspec": {
      "name": "python3",
      "display_name": "Python 3"
    },
    "language_info": {
      "name": "python"
    }
  },
  "cells": [
    {
      "cell_type": "markdown",
      "metadata": {
        "id": "view-in-github",
        "colab_type": "text"
      },
      "source": [
        "<a href=\"https://colab.research.google.com/github/SaraBCoutinho/Capacita-ao_Tecnologica/blob/main/Exercicio_21_03_2023.ipynb\" target=\"_parent\"><img src=\"https://colab.research.google.com/assets/colab-badge.svg\" alt=\"Open In Colab\"/></a>"
      ]
    },
    {
      "cell_type": "markdown",
      "source": [
        "# Programa de Capacitaçao com Residência Tecnologica - PUC-Campinas/CPQD\n",
        "\n",
        "Data(aula):21/03/2023 (aula assincrona)\n",
        "\n",
        "Curso: Ciência (2023/1/M23111)\n",
        "\n",
        "Aluna: Sara Bandeira Coutinho \n"
      ],
      "metadata": {
        "id": "MT_B364S6SPh"
      }
    },
    {
      "cell_type": "code",
      "source": [
        "#Exercicio 1 \n",
        "\n",
        "\"\"\"\n",
        "Objetivo: ler o valor do produto e apontar o percentual minimo de lucro de acordo com a tabela fornecida na questao.\n",
        "\n",
        "Entrada: valor do produto em float \n",
        "Processamento: verificar o % de lucro dependendo do valor\n",
        "Saida: imprimir o % de lucro \n",
        "\n",
        "\"\"\"\n",
        "def main():\n",
        "  #entradas\n",
        "  vp= float(input(\"Digite o valor do produto: \"))\n",
        "  \n",
        "  #processamento\n",
        "  if vp < 25.0:\n",
        "    print(\"Lucro de 100%\")                #saida\n",
        "  elif vp >= 25.0 and vp < 100.0:\n",
        "    print(\"Lucro de 70%\")                 #saida\n",
        "  elif vp >= 100.0 and vp < 500.0:\n",
        "    print(\"Lucro de 60%\")                 #saida\n",
        "  elif vp >= 500.0 and vp < 1000.0:\n",
        "    print(\"Lucro de 50%\")                 #saida\n",
        "  else:\n",
        "    print(\"Lucro de 40%\")  "
      ],
      "metadata": {
        "id": "RO4gflNTUPPY"
      },
      "execution_count": 53,
      "outputs": []
    },
    {
      "cell_type": "code",
      "source": [
        "#Valor 5\n",
        "if __name__ == \"__main__\":\n",
        "  main()"
      ],
      "metadata": {
        "colab": {
          "base_uri": "https://localhost:8080/"
        },
        "id": "n5fBOzpJUdBx",
        "outputId": "ff3c3025-2072-48db-a428-faae1bea397f"
      },
      "execution_count": 56,
      "outputs": [
        {
          "output_type": "stream",
          "name": "stdout",
          "text": [
            "Digite o valor do produto: 5\n",
            "Lucro de 100%\n"
          ]
        }
      ]
    },
    {
      "cell_type": "code",
      "source": [
        "#Valor 25\n",
        "if __name__ == \"__main__\":\n",
        "  main()"
      ],
      "metadata": {
        "colab": {
          "base_uri": "https://localhost:8080/"
        },
        "id": "EvQ7RwefUQ2H",
        "outputId": "7c65fa6d-ef1a-46e2-bce2-4909c3a2ced2"
      },
      "execution_count": 57,
      "outputs": [
        {
          "output_type": "stream",
          "name": "stdout",
          "text": [
            "Digite o valor do produto: 25\n",
            "Lucro de 70%\n"
          ]
        }
      ]
    },
    {
      "cell_type": "code",
      "source": [
        "#Valor 100\n",
        "if __name__ == \"__main__\":\n",
        "  main()"
      ],
      "metadata": {
        "colab": {
          "base_uri": "https://localhost:8080/"
        },
        "id": "Ck33Jw8_UT1o",
        "outputId": "8a85828a-f275-41ae-cac0-b44737d9a0a6"
      },
      "execution_count": 59,
      "outputs": [
        {
          "output_type": "stream",
          "name": "stdout",
          "text": [
            "Digite o valor do produto: 100\n",
            "Lucro de 60%\n"
          ]
        }
      ]
    },
    {
      "cell_type": "code",
      "source": [
        "#Valor 750\n",
        "if __name__ == \"__main__\":\n",
        "  main()"
      ],
      "metadata": {
        "colab": {
          "base_uri": "https://localhost:8080/"
        },
        "id": "6HccrUHuUUpB",
        "outputId": "d3d4726f-a263-4d51-86c9-b97a6f8a82ef"
      },
      "execution_count": 60,
      "outputs": [
        {
          "output_type": "stream",
          "name": "stdout",
          "text": [
            "Digite o valor do produto: 750\n",
            "Lucro de 50%\n"
          ]
        }
      ]
    },
    {
      "cell_type": "code",
      "source": [
        "#Valor 1000\n",
        "if __name__ == \"__main__\":\n",
        "  main()"
      ],
      "metadata": {
        "colab": {
          "base_uri": "https://localhost:8080/"
        },
        "id": "BiF6fFBbUU07",
        "outputId": "413e6e14-450e-4d62-d8ad-16a79cd05b6e"
      },
      "execution_count": 61,
      "outputs": [
        {
          "output_type": "stream",
          "name": "stdout",
          "text": [
            "Digite o valor do produto: 1000\n",
            "Lucro de 40%\n"
          ]
        }
      ]
    },
    {
      "cell_type": "code",
      "source": [
        "#Exercicio 2 \n",
        "\n",
        "\"\"\"Objetivo: ler n valores recebidos e imprimir o médio, maior e menor\n",
        "\n",
        "Entrada: n valores \n",
        "Processamento: verificar o maior, menor e o médio\n",
        "Saida: imprimir os valores do menor, médio e maior indicando cada um\n",
        "\n",
        "Observaçao: Assumiu-se os valores como float a fim de generalizar pra inteiros ou reais. \n",
        "\n",
        "\"\"\"\n",
        "\n",
        "def main():\n",
        "  #entrada\n",
        "  x, y, z = input().split()\n",
        "  x, y, z = float(x), float(y), float(z)\n",
        "\n",
        "  #processamento\n",
        "  maior = max(x, y, z)\n",
        "  menor = min(x, y, z)\n",
        "\n",
        "  if x != maior and x != menor:\n",
        "    medio = x\n",
        "  elif y != maior and y != menor:\n",
        "    medio = y \n",
        "  else: \n",
        "    medio = z\n",
        "\n",
        "  #saida\n",
        "  print(\"O menor valor é: \", menor,\", O valor médio é: \", medio, \", O valor maior é: \", maior, \".\" )\n",
        "\n",
        "if __name__ == \"__main__\":\n",
        "  main()"
      ],
      "metadata": {
        "colab": {
          "base_uri": "https://localhost:8080/"
        },
        "id": "qcbtkrirUnrA",
        "outputId": "e4d6a599-8fe6-4e75-a5be-f06e6f1b8f03"
      },
      "execution_count": 62,
      "outputs": [
        {
          "output_type": "stream",
          "name": "stdout",
          "text": [
            "2 4 5\n",
            "O menor valor é:  2.0 , O valor médio é:  4.0 , O valor maior é:  5.0 .\n"
          ]
        }
      ]
    }
  ]
}