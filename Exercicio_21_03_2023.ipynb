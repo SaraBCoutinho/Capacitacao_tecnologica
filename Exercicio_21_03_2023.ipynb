{
  "nbformat": 4,
  "nbformat_minor": 0,
  "metadata": {
    "colab": {
      "provenance": [],
      "authorship_tag": "ABX9TyMxG0ixCHM9XGbF7cYY3S25",
      "include_colab_link": true
    },
    "kernelspec": {
      "name": "python3",
      "display_name": "Python 3"
    },
    "language_info": {
      "name": "python"
    }
  },
  "cells": [
    {
      "cell_type": "markdown",
      "metadata": {
        "id": "view-in-github",
        "colab_type": "text"
      },
      "source": [
        "<a href=\"https://colab.research.google.com/github/SaraBCoutinho/Capacita-ao_Tecnologica/blob/main/Exercicio_21_03_2023.ipynb\" target=\"_parent\"><img src=\"https://colab.research.google.com/assets/colab-badge.svg\" alt=\"Open In Colab\"/></a>"
      ]
    },
    {
      "cell_type": "markdown",
      "source": [
        "# Programa de Capacitaçao com Residência Tecnologica - PUC-Campinas/CPQD\n",
        "\n",
        "Data(aula):21/03/2023 (aula assincrona)\n",
        "\n",
        "Curso: Ciência (2023/1/M23111)\n",
        "\n",
        "Aluna: Sara Bandeira Coutinho \n"
      ],
      "metadata": {
        "id": "MT_B364S6SPh"
      }
    },
    {
      "cell_type": "code",
      "source": [
        "#Exercicio 1 \n",
        "\n",
        "\"\"\"\n",
        "Objetivo: ler o valor do produto e apontar o percentual minimo de lucro de acordo com a tabela fornecida na questao.\n",
        "\n",
        "Entrada: valor do produto em float \n",
        "Processamento: verificar o % de lucro dependendo do valor\n",
        "Saida: imprimir o % de lucro \n",
        "\n",
        "\"\"\"\n",
        "def main():\n",
        "  try:\n",
        "    #entradas\n",
        "    vp= float(input(\"Digite o valor do produto: \"))\n",
        "    \n",
        "    #processamento\n",
        "    if vp < 25.0:\n",
        "      print(\"Lucro de 100%\")                #saida\n",
        "    elif vp >= 25.0 and vp < 100.0:\n",
        "      print(\"Lucro de 70%\")                 #saida\n",
        "    elif vp >= 100.0 and vp < 500.0:\n",
        "      print(\"Lucro de 60%\")                 #saida\n",
        "    elif vp >= 500.0 and vp < 1000.0:\n",
        "      print(\"Lucro de 50%\")                 #saida\n",
        "    else:\n",
        "      print(\"Lucro de 40%\")  \n",
        " \n",
        "  except: \n",
        "    print(\"Numero invalido. Refazer, por gentileza, o processo.\")"
      ],
      "metadata": {
        "id": "RO4gflNTUPPY"
      },
      "execution_count": 65,
      "outputs": []
    },
    {
      "cell_type": "code",
      "source": [
        "#Valor g\n",
        "if __name__ == \"__main__\":\n",
        "  main()"
      ],
      "metadata": {
        "colab": {
          "base_uri": "https://localhost:8080/"
        },
        "id": "NwEaQz2FVwVc",
        "outputId": "d55bd28b-bcb2-4c9a-d288-130f0fe9b585"
      },
      "execution_count": 66,
      "outputs": [
        {
          "output_type": "stream",
          "name": "stdout",
          "text": [
            "Digite o valor do produto: g\n",
            "Numero invalido. Refazer, por gentileza, o processo.\n"
          ]
        }
      ]
    },
    {
      "cell_type": "code",
      "source": [
        "#Valor 5\n",
        "if __name__ == \"__main__\":\n",
        "  main()"
      ],
      "metadata": {
        "colab": {
          "base_uri": "https://localhost:8080/"
        },
        "id": "n5fBOzpJUdBx",
        "outputId": "b3bae15d-f283-445b-ef9b-8bdc98763a6f"
      },
      "execution_count": 67,
      "outputs": [
        {
          "output_type": "stream",
          "name": "stdout",
          "text": [
            "Digite o valor do produto: 5\n",
            "Lucro de 100%\n"
          ]
        }
      ]
    },
    {
      "cell_type": "code",
      "source": [
        "#Valor 25\n",
        "if __name__ == \"__main__\":\n",
        "  main()"
      ],
      "metadata": {
        "colab": {
          "base_uri": "https://localhost:8080/"
        },
        "id": "EvQ7RwefUQ2H",
        "outputId": "99a30423-f103-4a11-faa0-631e31ff794d"
      },
      "execution_count": 68,
      "outputs": [
        {
          "output_type": "stream",
          "name": "stdout",
          "text": [
            "Digite o valor do produto: 25\n",
            "Lucro de 70%\n"
          ]
        }
      ]
    },
    {
      "cell_type": "code",
      "source": [
        "#Valor 100\n",
        "if __name__ == \"__main__\":\n",
        "  main()"
      ],
      "metadata": {
        "colab": {
          "base_uri": "https://localhost:8080/"
        },
        "id": "Ck33Jw8_UT1o",
        "outputId": "ff10d201-2f18-4a88-b138-613732288ea8"
      },
      "execution_count": 69,
      "outputs": [
        {
          "output_type": "stream",
          "name": "stdout",
          "text": [
            "Digite o valor do produto: 100\n",
            "Lucro de 60%\n"
          ]
        }
      ]
    },
    {
      "cell_type": "code",
      "source": [
        "#Valor 750\n",
        "if __name__ == \"__main__\":\n",
        "  main()"
      ],
      "metadata": {
        "colab": {
          "base_uri": "https://localhost:8080/"
        },
        "id": "6HccrUHuUUpB",
        "outputId": "55ae908d-db6f-40d6-bd73-18120572ba07"
      },
      "execution_count": 70,
      "outputs": [
        {
          "output_type": "stream",
          "name": "stdout",
          "text": [
            "Digite o valor do produto: 750\n",
            "Lucro de 50%\n"
          ]
        }
      ]
    },
    {
      "cell_type": "code",
      "source": [
        "#Valor 1000\n",
        "if __name__ == \"__main__\":\n",
        "  main()"
      ],
      "metadata": {
        "colab": {
          "base_uri": "https://localhost:8080/"
        },
        "id": "BiF6fFBbUU07",
        "outputId": "c032938c-091f-4572-f080-57c19bc54472"
      },
      "execution_count": 71,
      "outputs": [
        {
          "output_type": "stream",
          "name": "stdout",
          "text": [
            "Digite o valor do produto: 1000\n",
            "Lucro de 40%\n"
          ]
        }
      ]
    },
    {
      "cell_type": "code",
      "source": [
        "#Exercicio 2 \n",
        "\n",
        "\"\"\"Objetivo: ler n valores recebidos e imprimir o médio, maior e menor\n",
        "\n",
        "Entrada: n valores \n",
        "Processamento: verificar o maior, menor e o médio\n",
        "Saida: imprimir os valores do menor, médio e maior indicando cada um\n",
        "\n",
        "Observaçao: Assumiu-se os valores como float a fim de generalizar pra inteiros ou reais. \n",
        "\n",
        "\"\"\"\n",
        "\n",
        "def main():\n",
        "  try: \n",
        "    #entrada\n",
        "    x, y, z = input().split()\n",
        "    x, y, z = float(x), float(y), float(z)\n",
        "\n",
        "    #processamento\n",
        "    maior = max(x, y, z)\n",
        "    menor = min(x, y, z)\n",
        "\n",
        "    if x != maior and x != menor:\n",
        "      medio = x\n",
        "    elif y != maior and y != menor:\n",
        "      medio = y \n",
        "    else: \n",
        "      medio = z\n",
        "\n",
        "    #saida\n",
        "    print(\"O menor valor é: \", menor,\", O valor médio é: \", medio, \", O valor maior é: \", maior, \".\" )\n",
        "  \n",
        "  except: \n",
        "    print(\"Numeros invalidos. Refazer, por gentileza, o processo.\")"
      ],
      "metadata": {
        "id": "qcbtkrirUnrA"
      },
      "execution_count": 74,
      "outputs": []
    },
    {
      "cell_type": "code",
      "source": [
        "#Numeros a z g \n",
        "if __name__ == \"__main__\":\n",
        "  main()"
      ],
      "metadata": {
        "colab": {
          "base_uri": "https://localhost:8080/"
        },
        "id": "D3HD5IR-V79W",
        "outputId": "269aa3e1-c058-4fab-af62-a65778307048"
      },
      "execution_count": 75,
      "outputs": [
        {
          "output_type": "stream",
          "name": "stdout",
          "text": [
            "a z g\n",
            "Numeros invalidos. Refazer, por gentileza, o processo.\n"
          ]
        }
      ]
    },
    {
      "cell_type": "code",
      "source": [
        "#Numeros 2, 4, 5 \n",
        "if __name__ == \"__main__\":\n",
        "  main()"
      ],
      "metadata": {
        "colab": {
          "base_uri": "https://localhost:8080/"
        },
        "id": "mti09xrEWHgJ",
        "outputId": "d0d62ab4-7a00-4531-94b2-5d2acd630277"
      },
      "execution_count": 76,
      "outputs": [
        {
          "output_type": "stream",
          "name": "stdout",
          "text": [
            "2 4 5 \n",
            "O menor valor é:  2.0 , O valor médio é:  4.0 , O valor maior é:  5.0 .\n"
          ]
        }
      ]
    }
  ]
}