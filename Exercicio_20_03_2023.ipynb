{
  "nbformat": 4,
  "nbformat_minor": 0,
  "metadata": {
    "colab": {
      "provenance": [],
      "authorship_tag": "ABX9TyO/BA6S0Lpje5EBEJaJ7Je8",
      "include_colab_link": true
    },
    "kernelspec": {
      "name": "python3",
      "display_name": "Python 3"
    },
    "language_info": {
      "name": "python"
    }
  },
  "cells": [
    {
      "cell_type": "markdown",
      "metadata": {
        "id": "view-in-github",
        "colab_type": "text"
      },
      "source": [
        "<a href=\"https://colab.research.google.com/github/SaraBCoutinho/Capacita-ao_Tecnologica/blob/main/Exercicio_20_03_2023.ipynb\" target=\"_parent\"><img src=\"https://colab.research.google.com/assets/colab-badge.svg\" alt=\"Open In Colab\"/></a>"
      ]
    },
    {
      "cell_type": "markdown",
      "source": [
        "# Programa de Capacitaçao com Residência Tecnologica - PUC-Campinas/CPQD\n",
        "\n",
        "Data(aula):20/03/2023 (aula assincrona)\n",
        "\n",
        "Curso: Ciência (2023/1/M23111)\n",
        "\n",
        "Aluna: Sara Bandeira Coutinho \n"
      ],
      "metadata": {
        "id": "MT_B364S6SPh"
      }
    },
    {
      "cell_type": "code",
      "execution_count": 10,
      "metadata": {
        "id": "FO8I0BCEwgkJ"
      },
      "outputs": [],
      "source": [
        "#Exercicio 8 \n",
        "\"\"\"\n",
        "Objetivo: Fazer a leitura do ano de construçao do imovel, do ano atual e calcular a idade do imovel e fornecer o % de desconto do IPTU. \n",
        "\n",
        "Entradas: Ano de construçao e ano atual em valores inteiros  \n",
        "Processamento: Calculo da idade e calculo do desconto\n",
        "Saida: Percentual do desconto do IPTU\n",
        "\n",
        "\"\"\"\n",
        "import datetime\n",
        "from datetime import date #capturar data atual \n",
        "\n",
        "def main():\n",
        "  #entradas\n",
        "  ano_construcao = int(input(\"Digite o ano de construçao do imovel: \"))\n",
        "  ano_atual = date.today().year\n",
        "\n",
        "  #processamento\n",
        "  idade = ano_atual - ano_construcao\n",
        "\n",
        "  #saida\n",
        "  if idade < 5: \n",
        "    print(\"O percentual de desconto do IPTU é 0%\")\n",
        "  elif idade >=5 and idade < 20: \n",
        "    print(\"O percentual de desconto do IPTU é 15%\")\n",
        "  elif idade >= 20 and idade < 40: \n",
        "    print(\"O percentual de desconto é 25%\")\n",
        "  else: \n",
        "    print(\"O percentual de desconto e 30%\")\n",
        "  "
      ]
    },
    {
      "cell_type": "code",
      "source": [
        "#Ano 2022\n",
        "if __name__ == \"__main__\": \n",
        "  main()"
      ],
      "metadata": {
        "colab": {
          "base_uri": "https://localhost:8080/"
        },
        "id": "hjzP46PtHClq",
        "outputId": "a614389c-bf9a-400b-ab34-483c02f518a1"
      },
      "execution_count": 11,
      "outputs": [
        {
          "output_type": "stream",
          "name": "stdout",
          "text": [
            "Digite o ano de construçao do imovel: 2022\n",
            "O percentual de desconto do IPTU é 0%\n"
          ]
        }
      ]
    },
    {
      "cell_type": "code",
      "source": [
        "#Ano 2015\n",
        "if __name__ == \"__main__\": \n",
        "  main()"
      ],
      "metadata": {
        "colab": {
          "base_uri": "https://localhost:8080/"
        },
        "id": "dRQBauuvHLkm",
        "outputId": "d8f2d971-5e45-4b53-c691-62364a3add16"
      },
      "execution_count": 12,
      "outputs": [
        {
          "output_type": "stream",
          "name": "stdout",
          "text": [
            "Digite o ano de construçao do imovel: 2015\n",
            "O percentual de desconto do IPTU é 15%\n"
          ]
        }
      ]
    },
    {
      "cell_type": "code",
      "source": [
        "#Ano 2002\n",
        "if __name__ == \"__main__\": \n",
        "  main()"
      ],
      "metadata": {
        "colab": {
          "base_uri": "https://localhost:8080/"
        },
        "id": "VzE9o8Y_HLrQ",
        "outputId": "2cab2470-b0d9-4312-c8df-17f6470ec1aa"
      },
      "execution_count": 13,
      "outputs": [
        {
          "output_type": "stream",
          "name": "stdout",
          "text": [
            "Digite o ano de construçao do imovel: 2002\n",
            "O percentual de desconto é 25%\n"
          ]
        }
      ]
    },
    {
      "cell_type": "code",
      "source": [
        "#Ano 1982\n",
        "if __name__ == \"__main__\": \n",
        "  main()"
      ],
      "metadata": {
        "colab": {
          "base_uri": "https://localhost:8080/"
        },
        "id": "qofC6cJvHLxX",
        "outputId": "0173bf1d-d6a7-4111-a87e-f368bf71b991"
      },
      "execution_count": 14,
      "outputs": [
        {
          "output_type": "stream",
          "name": "stdout",
          "text": [
            "Digite o ano de construçao do imovel: 1982\n",
            "O percentual de desconto e 30%\n"
          ]
        }
      ]
    },
    {
      "cell_type": "code",
      "source": [
        "#Exercicio 9 \n",
        "\"\"\" \n",
        "Objetivo: Calcular o IMC de acordo com a tabela apresentada e emitir a classificaçao final. \n",
        "\n",
        "Entradas: peso e altura em reais\n",
        "Processamento: calculo do IMC\n",
        "Saida: classificaçao pela tabela proposta na questao \n",
        "\n",
        "\"\"\"\n",
        "\n",
        "def main():\n",
        "  #entradas\n",
        "  peso, altura = input(\"Digite o peso em Kg e a altura em cm: \").split()\n",
        "  peso, altura = float(peso), float(altura)/100.0 #conversao de centimetros pra metros  \n",
        "\n",
        "  #processamento\n",
        "  imc = peso / (altura**2)\n",
        "\n",
        "  #saida\n",
        "  if imc < 18.5:\n",
        "    print(\"Baixo peso\")\n",
        "  elif imc >= 18.5 and imc < 25:\n",
        "    print(\"Normal\")\n",
        "  elif imc >= 25 and imc < 30: \n",
        "    print(\"Sobrepeso\")\n",
        "  else:\n",
        "    print(\"Obesidade\") "
      ],
      "metadata": {
        "id": "RrbzWhF2DOWW"
      },
      "execution_count": 23,
      "outputs": []
    },
    {
      "cell_type": "code",
      "source": [
        "# Peso 40 altura 1,65\n",
        "if __name__ == \"__main__\":\n",
        "  main()"
      ],
      "metadata": {
        "colab": {
          "base_uri": "https://localhost:8080/"
        },
        "id": "-Jzpn_1cHqYM",
        "outputId": "7aec168e-f782-4249-b424-79bd675daf48"
      },
      "execution_count": 24,
      "outputs": [
        {
          "output_type": "stream",
          "name": "stdout",
          "text": [
            "Digite o peso em Kg e a altura em cm: 40 165\n",
            "Baixo peso\n"
          ]
        }
      ]
    },
    {
      "cell_type": "code",
      "source": [
        "# Peso 58 altura 1,65\n",
        "if __name__ == \"__main__\":\n",
        "  main()"
      ],
      "metadata": {
        "colab": {
          "base_uri": "https://localhost:8080/"
        },
        "id": "p2xzeNfCHt9y",
        "outputId": "6c7f73e3-fd5a-4738-8078-b2c39a4ffa8b"
      },
      "execution_count": 25,
      "outputs": [
        {
          "output_type": "stream",
          "name": "stdout",
          "text": [
            "Digite o peso em Kg e a altura em cm: 58 165\n",
            "Normal\n"
          ]
        }
      ]
    },
    {
      "cell_type": "code",
      "source": [
        "# Peso 78 altura 1,65\n",
        "if __name__ == \"__main__\":\n",
        "  main()"
      ],
      "metadata": {
        "colab": {
          "base_uri": "https://localhost:8080/"
        },
        "id": "WXSPWnFWHuKB",
        "outputId": "3a550ca1-2c9f-4bb0-ea03-c9563090b344"
      },
      "execution_count": 26,
      "outputs": [
        {
          "output_type": "stream",
          "name": "stdout",
          "text": [
            "Digite o peso em Kg e a altura em cm: 78 165\n",
            "Sobrepeso\n"
          ]
        }
      ]
    },
    {
      "cell_type": "code",
      "source": [
        "# Peso 100 altura 1,65\n",
        "if __name__ == \"__main__\":\n",
        "  main()"
      ],
      "metadata": {
        "colab": {
          "base_uri": "https://localhost:8080/"
        },
        "id": "jwQ58gUEHuX5",
        "outputId": "4c0e224b-505b-4658-b61a-967964f6d981"
      },
      "execution_count": 27,
      "outputs": [
        {
          "output_type": "stream",
          "name": "stdout",
          "text": [
            "Digite o peso em Kg e a altura em cm: 100 165\n",
            "Obesidade\n"
          ]
        }
      ]
    },
    {
      "cell_type": "code",
      "source": [
        "#Exercicio 10\n",
        "\n",
        "\"\"\"\n",
        "Objetivo: ler 3 numeros e verificar se estao em ordem crescente\n",
        "\n",
        "Entrada: 3 numeros inteiros\n",
        "Processamento: verificar o maior e o menor e ver se estao alinhados em ordem crescente\n",
        "Saida: dizer se estao alinhados ou nao\n",
        "\n",
        "\"\"\"\n",
        "def main():\n",
        "  #entrada\n",
        "  a, b, c = input(\"Digite os 3 numeros: \").split()\n",
        "  a, b, c = int(a), int(b), int(c) #conversao de string para inteiro\n",
        "\n",
        "  #processamento\n",
        "\n",
        "  maior = max(a, b, c) #encontrando o maior\n",
        "  menor = min(a, b, c) #encontrando o menor\n",
        "\n",
        "  if (a == menor) and (c == maior): #verificando se estao em ordem crescente\n",
        "    print(\"Os numeros estao em ordem\")\n",
        "  else: \n",
        "    print(\"Os numeros nao estao em ordem \")\n"
      ],
      "metadata": {
        "id": "L2M2TG0iDPtk"
      },
      "execution_count": 29,
      "outputs": []
    },
    {
      "cell_type": "code",
      "source": [
        "#Numeros 1, 2, 3 \n",
        "if __name__ == \"__main__\":\n",
        "  main()"
      ],
      "metadata": {
        "colab": {
          "base_uri": "https://localhost:8080/"
        },
        "id": "F9qvsgrjMMME",
        "outputId": "db63baff-75af-43a8-bb14-22519d5e5162"
      },
      "execution_count": 30,
      "outputs": [
        {
          "output_type": "stream",
          "name": "stdout",
          "text": [
            "Digite os 3 numeros: 1 2 3\n",
            "Os numeros estao em ordem\n"
          ]
        }
      ]
    },
    {
      "cell_type": "code",
      "source": [
        "#Numeros 4, 2, 6 \n",
        "if __name__ == \"__main__\":\n",
        "  main()"
      ],
      "metadata": {
        "colab": {
          "base_uri": "https://localhost:8080/"
        },
        "id": "vigPAfVVMPQZ",
        "outputId": "fe85b0fa-4ee7-4b77-a5fe-eae27b598cf7"
      },
      "execution_count": 31,
      "outputs": [
        {
          "output_type": "stream",
          "name": "stdout",
          "text": [
            "Digite os 3 numeros: 4 2 6\n",
            "Os numeros nao estao em ordem \n"
          ]
        }
      ]
    },
    {
      "cell_type": "code",
      "source": [
        "#Exercicio 11 \n",
        " \n",
        "\"\"\"\n",
        "Objetivo: Calcular a média dos alunos e verificar o nivel de frequência pegando Av1 (avaliaçao 1) e Av2(avaliaçao 2) e calcular a média aritmética. Retornar o status \n",
        "do aluno na disciplina. \n",
        "\n",
        "Entradas: notas 1 e 2 e o percentual de frequência em float\n",
        "Processamento: Calculo da média\n",
        "Saida: Status do aluno na disciplina acordo com a tabela proposta na questao\n",
        "\n",
        "\"\"\"\n",
        "\n",
        "def main():\n",
        "  #entrada\n",
        "  av1, av2, frequencia = input(\"Digite a nota 1, a nota 2 e o % de frequência: \").split()\n",
        "  av1, av2, frequencia = float(av1), float(av2), float(frequencia)\n",
        "  #processamento\n",
        "  media = (av1 + av2)/2\n",
        "\n",
        "  #saida\n",
        "  if frequencia < 75.0:\n",
        "    print(\"Reprovado\")\n",
        "  else: \n",
        "    if media < 4: \n",
        "      print(\"Reprovado\")\n",
        "    elif media >= 4 and media < 6:\n",
        "      print(\"Exame\")\n",
        "    else: \n",
        "      print(\"Aprovado\") "
      ],
      "metadata": {
        "id": "laA-Yi4CDQ-C"
      },
      "execution_count": 37,
      "outputs": []
    },
    {
      "cell_type": "code",
      "source": [
        "#Nota 10, nota 9, % de frequencia 70%\n",
        "if __name__ == \"__main__\":\n",
        "  main()"
      ],
      "metadata": {
        "colab": {
          "base_uri": "https://localhost:8080/"
        },
        "id": "MAAQwQXbM8sO",
        "outputId": "46ee2c2d-edf6-483f-c8aa-dff16d2660ce"
      },
      "execution_count": 38,
      "outputs": [
        {
          "output_type": "stream",
          "name": "stdout",
          "text": [
            "Digite a nota 1, a nota 2 e o % de frequência: 10 9 70\n",
            "Reprovado\n"
          ]
        }
      ]
    },
    {
      "cell_type": "code",
      "source": [
        "#Nota 4, nota 2, % de frequencia 75%\n",
        "if __name__ == \"__main__\":\n",
        "  main()"
      ],
      "metadata": {
        "colab": {
          "base_uri": "https://localhost:8080/"
        },
        "id": "erHV31eMM8-M",
        "outputId": "e4e8bda5-5d61-4958-8b78-eca5b68bbc82"
      },
      "execution_count": 39,
      "outputs": [
        {
          "output_type": "stream",
          "name": "stdout",
          "text": [
            "Digite a nota 1, a nota 2 e o % de frequência: 4 2 75\n",
            "Reprovado\n"
          ]
        }
      ]
    },
    {
      "cell_type": "code",
      "source": [
        "#Nota 5, nota 5, % de frequencia 85%\n",
        "if __name__ == \"__main__\":\n",
        "  main()"
      ],
      "metadata": {
        "colab": {
          "base_uri": "https://localhost:8080/"
        },
        "id": "UMOYhzmVOGB6",
        "outputId": "c0db1fee-2ef5-4ef6-db51-125056178a9e"
      },
      "execution_count": 42,
      "outputs": [
        {
          "output_type": "stream",
          "name": "stdout",
          "text": [
            "Digite a nota 1, a nota 2 e o % de frequência: 5 5 85\n",
            "Exame\n"
          ]
        }
      ]
    },
    {
      "cell_type": "code",
      "source": [
        "#Nota 7, nota 9, % de frequencia 85%\n",
        "if __name__ == \"__main__\":\n",
        "  main()"
      ],
      "metadata": {
        "colab": {
          "base_uri": "https://localhost:8080/"
        },
        "id": "5s0GmOOzM9OH",
        "outputId": "b4de117b-6cbf-4178-af54-5a85faeb50da"
      },
      "execution_count": 40,
      "outputs": [
        {
          "output_type": "stream",
          "name": "stdout",
          "text": [
            "Digite a nota 1, a nota 2 e o % de frequência: 7 9 85\n",
            "Aprovado\n"
          ]
        }
      ]
    },
    {
      "cell_type": "code",
      "source": [
        "#Nota 10, nota 10, % de frequencia 100%\n",
        "if __name__ == \"__main__\":\n",
        "  main()"
      ],
      "metadata": {
        "colab": {
          "base_uri": "https://localhost:8080/"
        },
        "id": "OQjFcxueNMbF",
        "outputId": "19803c33-67a9-47cf-82f9-7f383eb67f05"
      },
      "execution_count": 43,
      "outputs": [
        {
          "output_type": "stream",
          "name": "stdout",
          "text": [
            "Digite a nota 1, a nota 2 e o % de frequência: 10 10 100\n",
            "Aprovado\n"
          ]
        }
      ]
    },
    {
      "cell_type": "code",
      "source": [
        "#Exercicio 12 \n",
        "\n",
        "\"\"\"\n",
        "Objetivo: Calculo da funçao dada\n",
        "\n",
        "Entrada: valor de x\n",
        "Processamento: calculo da funçao\n",
        "Saida: resultado caso x seja diferente de 0 e NAO E PERMITIDO EFETUAR A DIVISAO POR ZERO caso seja 0\n",
        "\n",
        "Observaçoes: Maneira 1 com comandos if - else e maneira 2 com comandos try - except\n",
        "\n",
        "\"\"\"\n",
        "def main_1():\n",
        "  #entrada\n",
        "  x = float(input())\n",
        "  #processamento\n",
        "\n",
        "  if x != 0:\n",
        "    y = ((4 * (x**2)) - (3*x) + 9)/ x\n",
        "    print(y) #saida\n",
        "  else:\n",
        "    print(\"NAO E PERMITIDO EFETUAR A DIVISAO POR ZERO\") #saida"
      ],
      "metadata": {
        "id": "Tmx5V3HbDSG9"
      },
      "execution_count": 45,
      "outputs": []
    },
    {
      "cell_type": "code",
      "source": [
        "# X = 0\n",
        "if __name__==\"__main__\":\n",
        "  main_1()"
      ],
      "metadata": {
        "colab": {
          "base_uri": "https://localhost:8080/"
        },
        "id": "ZVMnp41COuSZ",
        "outputId": "d00b9f18-19f7-4b7e-a0b2-13bde5a836d4"
      },
      "execution_count": 46,
      "outputs": [
        {
          "output_type": "stream",
          "name": "stdout",
          "text": [
            "0\n",
            "NAO E PERMITIDO EFETUAR A DIVISAO POR ZERO\n"
          ]
        }
      ]
    },
    {
      "cell_type": "code",
      "source": [
        "# X = 1\n",
        "if __name__==\"__main__\":\n",
        "  main_1()"
      ],
      "metadata": {
        "colab": {
          "base_uri": "https://localhost:8080/"
        },
        "id": "4Etz2CYCOrvj",
        "outputId": "5a71c26f-e0e4-4543-849a-77f6de82a6e5"
      },
      "execution_count": 47,
      "outputs": [
        {
          "output_type": "stream",
          "name": "stdout",
          "text": [
            "1\n",
            "10.0\n"
          ]
        }
      ]
    },
    {
      "cell_type": "code",
      "source": [
        "def main_2():\n",
        "  #entrada\n",
        "  x = float(input())\n",
        "  #processamento\n",
        "\n",
        "  try: \n",
        "    y = ((4 * (x**2)) - (3*x) + 9)/ x\n",
        "    print(y) #saida\n",
        "  except ZeroDivisionError:\n",
        "    print(\"NAO E PERMITIDO EFETUAR A DIVISAO POR ZERO\") #saida"
      ],
      "metadata": {
        "id": "m7BDNloCOlD9"
      },
      "execution_count": 50,
      "outputs": []
    },
    {
      "cell_type": "code",
      "source": [
        "# X = 0\n",
        "if __name__==\"__main__\":\n",
        "  main_2()"
      ],
      "metadata": {
        "colab": {
          "base_uri": "https://localhost:8080/"
        },
        "id": "gQHNaJJ7O5IX",
        "outputId": "42da9c7b-643f-468a-98f7-f1b76691ec9a"
      },
      "execution_count": 51,
      "outputs": [
        {
          "output_type": "stream",
          "name": "stdout",
          "text": [
            "0\n",
            "NAO E PERMITIDO EFETUAR A DIVISAO POR ZERO\n"
          ]
        }
      ]
    },
    {
      "cell_type": "code",
      "source": [
        "# X = 1\n",
        "if __name__==\"__main__\":\n",
        "  main_2()"
      ],
      "metadata": {
        "colab": {
          "base_uri": "https://localhost:8080/"
        },
        "id": "HFPYVJKtO5hz",
        "outputId": "153ac6bf-90e4-4471-c65e-9437bfb77ae0"
      },
      "execution_count": 52,
      "outputs": [
        {
          "output_type": "stream",
          "name": "stdout",
          "text": [
            "1\n",
            "10.0\n"
          ]
        }
      ]
    }
  ]
}