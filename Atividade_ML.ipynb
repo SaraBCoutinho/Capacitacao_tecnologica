{
  "nbformat": 4,
  "nbformat_minor": 0,
  "metadata": {
    "colab": {
      "provenance": [],
      "toc_visible": true,
      "authorship_tag": "ABX9TyMzkkIP0eCaJ5sT4kAL+hMf"
    },
    "kernelspec": {
      "name": "python3",
      "display_name": "Python 3"
    },
    "language_info": {
      "name": "python"
    }
  },
  "cells": [
    {
      "cell_type": "markdown",
      "source": [
        "Curso: Machine Learning\n",
        "\n",
        "Aluna: Sara Coutinho. \n",
        "\n",
        "Data: 25/05/2023.\n",
        "\n",
        "Este notebook contém a atividade solicitada pelo curso de Machine Learning : Implementação de modelos e verificação de eficiência da estratégia adotada em problemas de regressão e classificação. \n",
        "\n",
        "A seguir esta a resolução dos tópicos solicitados em cada questão na descrição da atividade. "
      ],
      "metadata": {
        "id": "A4ycMyTKc6gv"
      }
    },
    {
      "cell_type": "code",
      "execution_count": null,
      "metadata": {
        "id": "LIvWfq0sgJGv"
      },
      "outputs": [],
      "source": [
        "#---Preparaçao do Ambiente\n",
        "\n",
        "#imports\n",
        "import pandas as pd\n",
        "import numpy as np\n",
        "import matplotlib.pyplot as plt\n",
        "import seaborn as sb"
      ]
    },
    {
      "cell_type": "code",
      "source": [
        "#data colletion \n",
        "df = pd.read_csv('/content/FuelConsumptionCo2.csv')"
      ],
      "metadata": {
        "id": "k3D4MXhBhGV-"
      },
      "execution_count": null,
      "outputs": []
    },
    {
      "cell_type": "code",
      "source": [
        "#visualizando uma amostra do conjunto de dados\n",
        "df.sample(5)"
      ],
      "metadata": {
        "colab": {
          "base_uri": "https://localhost:8080/",
          "height": 322
        },
        "id": "Xo4s0kiYhaD_",
        "outputId": "5ca048da-86a6-46ae-b97a-f1e47a0688ca"
      },
      "execution_count": null,
      "outputs": [
        {
          "output_type": "execute_result",
          "data": {
            "text/plain": [
              "     MODELYEAR     MAKE          MODEL VEHICLECLASS  ENGINESIZE  CYLINDERS  \\\n",
              "21        2014     AUDI     A4 QUATTRO      COMPACT         2.0          4   \n",
              "709       2014    MAZDA  MAZDA3 5-DOOR     MID-SIZE         2.0          4   \n",
              "606       2014      KIA        FORTE 5    FULL-SIZE         1.6          4   \n",
              "519       2014  HYUNDAI         TUCSON  SUV - SMALL         2.4          4   \n",
              "92        2014      BMW     428i COUPE      COMPACT         2.0          4   \n",
              "\n",
              "    TRANSMISSION FUELTYPE  FUELCONSUMPTION_CITY  FUELCONSUMPTION_HWY  \\\n",
              "21            M6        Z                  10.8                  7.5   \n",
              "709           M6        X                   8.2                  5.9   \n",
              "606           M6        X                  11.1                  8.2   \n",
              "519           A6        X                  11.3                  8.3   \n",
              "92            M6        Z                  10.4                  6.7   \n",
              "\n",
              "     FUELCONSUMPTION_COMB  FUELCONSUMPTION_COMB_MPG  CO2EMISSIONS  \n",
              "21                    9.3                        30           214  \n",
              "709                   7.2                        39           166  \n",
              "606                   9.8                        29           225  \n",
              "519                  10.0                        28           230  \n",
              "92                    8.7                        32           200  "
            ],
            "text/html": [
              "\n",
              "  <div id=\"df-0067ed21-40ff-4d87-9822-943b6d938f88\">\n",
              "    <div class=\"colab-df-container\">\n",
              "      <div>\n",
              "<style scoped>\n",
              "    .dataframe tbody tr th:only-of-type {\n",
              "        vertical-align: middle;\n",
              "    }\n",
              "\n",
              "    .dataframe tbody tr th {\n",
              "        vertical-align: top;\n",
              "    }\n",
              "\n",
              "    .dataframe thead th {\n",
              "        text-align: right;\n",
              "    }\n",
              "</style>\n",
              "<table border=\"1\" class=\"dataframe\">\n",
              "  <thead>\n",
              "    <tr style=\"text-align: right;\">\n",
              "      <th></th>\n",
              "      <th>MODELYEAR</th>\n",
              "      <th>MAKE</th>\n",
              "      <th>MODEL</th>\n",
              "      <th>VEHICLECLASS</th>\n",
              "      <th>ENGINESIZE</th>\n",
              "      <th>CYLINDERS</th>\n",
              "      <th>TRANSMISSION</th>\n",
              "      <th>FUELTYPE</th>\n",
              "      <th>FUELCONSUMPTION_CITY</th>\n",
              "      <th>FUELCONSUMPTION_HWY</th>\n",
              "      <th>FUELCONSUMPTION_COMB</th>\n",
              "      <th>FUELCONSUMPTION_COMB_MPG</th>\n",
              "      <th>CO2EMISSIONS</th>\n",
              "    </tr>\n",
              "  </thead>\n",
              "  <tbody>\n",
              "    <tr>\n",
              "      <th>21</th>\n",
              "      <td>2014</td>\n",
              "      <td>AUDI</td>\n",
              "      <td>A4 QUATTRO</td>\n",
              "      <td>COMPACT</td>\n",
              "      <td>2.0</td>\n",
              "      <td>4</td>\n",
              "      <td>M6</td>\n",
              "      <td>Z</td>\n",
              "      <td>10.8</td>\n",
              "      <td>7.5</td>\n",
              "      <td>9.3</td>\n",
              "      <td>30</td>\n",
              "      <td>214</td>\n",
              "    </tr>\n",
              "    <tr>\n",
              "      <th>709</th>\n",
              "      <td>2014</td>\n",
              "      <td>MAZDA</td>\n",
              "      <td>MAZDA3 5-DOOR</td>\n",
              "      <td>MID-SIZE</td>\n",
              "      <td>2.0</td>\n",
              "      <td>4</td>\n",
              "      <td>M6</td>\n",
              "      <td>X</td>\n",
              "      <td>8.2</td>\n",
              "      <td>5.9</td>\n",
              "      <td>7.2</td>\n",
              "      <td>39</td>\n",
              "      <td>166</td>\n",
              "    </tr>\n",
              "    <tr>\n",
              "      <th>606</th>\n",
              "      <td>2014</td>\n",
              "      <td>KIA</td>\n",
              "      <td>FORTE 5</td>\n",
              "      <td>FULL-SIZE</td>\n",
              "      <td>1.6</td>\n",
              "      <td>4</td>\n",
              "      <td>M6</td>\n",
              "      <td>X</td>\n",
              "      <td>11.1</td>\n",
              "      <td>8.2</td>\n",
              "      <td>9.8</td>\n",
              "      <td>29</td>\n",
              "      <td>225</td>\n",
              "    </tr>\n",
              "    <tr>\n",
              "      <th>519</th>\n",
              "      <td>2014</td>\n",
              "      <td>HYUNDAI</td>\n",
              "      <td>TUCSON</td>\n",
              "      <td>SUV - SMALL</td>\n",
              "      <td>2.4</td>\n",
              "      <td>4</td>\n",
              "      <td>A6</td>\n",
              "      <td>X</td>\n",
              "      <td>11.3</td>\n",
              "      <td>8.3</td>\n",
              "      <td>10.0</td>\n",
              "      <td>28</td>\n",
              "      <td>230</td>\n",
              "    </tr>\n",
              "    <tr>\n",
              "      <th>92</th>\n",
              "      <td>2014</td>\n",
              "      <td>BMW</td>\n",
              "      <td>428i COUPE</td>\n",
              "      <td>COMPACT</td>\n",
              "      <td>2.0</td>\n",
              "      <td>4</td>\n",
              "      <td>M6</td>\n",
              "      <td>Z</td>\n",
              "      <td>10.4</td>\n",
              "      <td>6.7</td>\n",
              "      <td>8.7</td>\n",
              "      <td>32</td>\n",
              "      <td>200</td>\n",
              "    </tr>\n",
              "  </tbody>\n",
              "</table>\n",
              "</div>\n",
              "      <button class=\"colab-df-convert\" onclick=\"convertToInteractive('df-0067ed21-40ff-4d87-9822-943b6d938f88')\"\n",
              "              title=\"Convert this dataframe to an interactive table.\"\n",
              "              style=\"display:none;\">\n",
              "        \n",
              "  <svg xmlns=\"http://www.w3.org/2000/svg\" height=\"24px\"viewBox=\"0 0 24 24\"\n",
              "       width=\"24px\">\n",
              "    <path d=\"M0 0h24v24H0V0z\" fill=\"none\"/>\n",
              "    <path d=\"M18.56 5.44l.94 2.06.94-2.06 2.06-.94-2.06-.94-.94-2.06-.94 2.06-2.06.94zm-11 1L8.5 8.5l.94-2.06 2.06-.94-2.06-.94L8.5 2.5l-.94 2.06-2.06.94zm10 10l.94 2.06.94-2.06 2.06-.94-2.06-.94-.94-2.06-.94 2.06-2.06.94z\"/><path d=\"M17.41 7.96l-1.37-1.37c-.4-.4-.92-.59-1.43-.59-.52 0-1.04.2-1.43.59L10.3 9.45l-7.72 7.72c-.78.78-.78 2.05 0 2.83L4 21.41c.39.39.9.59 1.41.59.51 0 1.02-.2 1.41-.59l7.78-7.78 2.81-2.81c.8-.78.8-2.07 0-2.86zM5.41 20L4 18.59l7.72-7.72 1.47 1.35L5.41 20z\"/>\n",
              "  </svg>\n",
              "      </button>\n",
              "      \n",
              "  <style>\n",
              "    .colab-df-container {\n",
              "      display:flex;\n",
              "      flex-wrap:wrap;\n",
              "      gap: 12px;\n",
              "    }\n",
              "\n",
              "    .colab-df-convert {\n",
              "      background-color: #E8F0FE;\n",
              "      border: none;\n",
              "      border-radius: 50%;\n",
              "      cursor: pointer;\n",
              "      display: none;\n",
              "      fill: #1967D2;\n",
              "      height: 32px;\n",
              "      padding: 0 0 0 0;\n",
              "      width: 32px;\n",
              "    }\n",
              "\n",
              "    .colab-df-convert:hover {\n",
              "      background-color: #E2EBFA;\n",
              "      box-shadow: 0px 1px 2px rgba(60, 64, 67, 0.3), 0px 1px 3px 1px rgba(60, 64, 67, 0.15);\n",
              "      fill: #174EA6;\n",
              "    }\n",
              "\n",
              "    [theme=dark] .colab-df-convert {\n",
              "      background-color: #3B4455;\n",
              "      fill: #D2E3FC;\n",
              "    }\n",
              "\n",
              "    [theme=dark] .colab-df-convert:hover {\n",
              "      background-color: #434B5C;\n",
              "      box-shadow: 0px 1px 3px 1px rgba(0, 0, 0, 0.15);\n",
              "      filter: drop-shadow(0px 1px 2px rgba(0, 0, 0, 0.3));\n",
              "      fill: #FFFFFF;\n",
              "    }\n",
              "  </style>\n",
              "\n",
              "      <script>\n",
              "        const buttonEl =\n",
              "          document.querySelector('#df-0067ed21-40ff-4d87-9822-943b6d938f88 button.colab-df-convert');\n",
              "        buttonEl.style.display =\n",
              "          google.colab.kernel.accessAllowed ? 'block' : 'none';\n",
              "\n",
              "        async function convertToInteractive(key) {\n",
              "          const element = document.querySelector('#df-0067ed21-40ff-4d87-9822-943b6d938f88');\n",
              "          const dataTable =\n",
              "            await google.colab.kernel.invokeFunction('convertToInteractive',\n",
              "                                                     [key], {});\n",
              "          if (!dataTable) return;\n",
              "\n",
              "          const docLinkHtml = 'Like what you see? Visit the ' +\n",
              "            '<a target=\"_blank\" href=https://colab.research.google.com/notebooks/data_table.ipynb>data table notebook</a>'\n",
              "            + ' to learn more about interactive tables.';\n",
              "          element.innerHTML = '';\n",
              "          dataTable['output_type'] = 'display_data';\n",
              "          await google.colab.output.renderOutput(dataTable, element);\n",
              "          const docLink = document.createElement('div');\n",
              "          docLink.innerHTML = docLinkHtml;\n",
              "          element.appendChild(docLink);\n",
              "        }\n",
              "      </script>\n",
              "    </div>\n",
              "  </div>\n",
              "  "
            ]
          },
          "metadata": {},
          "execution_count": 27
        }
      ]
    },
    {
      "cell_type": "code",
      "source": [
        "#visualizando as colunas\n",
        "df.columns"
      ],
      "metadata": {
        "colab": {
          "base_uri": "https://localhost:8080/"
        },
        "id": "Lnl9eBOPhbeB",
        "outputId": "3fda9f69-eba9-4a01-aea2-3fa60a6cc6c0"
      },
      "execution_count": null,
      "outputs": [
        {
          "output_type": "execute_result",
          "data": {
            "text/plain": [
              "Index(['MODELYEAR', 'MAKE', 'MODEL', 'VEHICLECLASS', 'ENGINESIZE', 'CYLINDERS',\n",
              "       'TRANSMISSION', 'FUELTYPE', 'FUELCONSUMPTION_CITY',\n",
              "       'FUELCONSUMPTION_HWY', 'FUELCONSUMPTION_COMB',\n",
              "       'FUELCONSUMPTION_COMB_MPG', 'CO2EMISSIONS'],\n",
              "      dtype='object')"
            ]
          },
          "metadata": {},
          "execution_count": 5
        }
      ]
    },
    {
      "cell_type": "code",
      "source": [
        "#conferindo se existem valores nulos ou repetidos no conjunto \n",
        "print('Existem : ',df.isnull().sum().sum(),'valores nulos no conjunto')\n",
        "print('Existem : ',df.duplicated().sum(),'valores repetidos no conjunto')"
      ],
      "metadata": {
        "colab": {
          "base_uri": "https://localhost:8080/"
        },
        "id": "t34Syj0WhdzN",
        "outputId": "606f5595-823f-44ec-893d-c1e0bf47f72b"
      },
      "execution_count": null,
      "outputs": [
        {
          "output_type": "stream",
          "name": "stdout",
          "text": [
            "Existem :  0 valores nulos no conjunto\n",
            "Existem :  0 valores repetidos no conjunto\n"
          ]
        }
      ]
    },
    {
      "cell_type": "code",
      "source": [
        "#visualizando os tipos de variaveis do conjunto\n",
        "df.info()"
      ],
      "metadata": {
        "colab": {
          "base_uri": "https://localhost:8080/"
        },
        "id": "oZxLqT5N_dAF",
        "outputId": "3bf34dc2-da1b-441c-f054-9ccdb177e3e1"
      },
      "execution_count": null,
      "outputs": [
        {
          "output_type": "stream",
          "name": "stdout",
          "text": [
            "<class 'pandas.core.frame.DataFrame'>\n",
            "RangeIndex: 1067 entries, 0 to 1066\n",
            "Data columns (total 13 columns):\n",
            " #   Column                    Non-Null Count  Dtype  \n",
            "---  ------                    --------------  -----  \n",
            " 0   MODELYEAR                 1067 non-null   int64  \n",
            " 1   MAKE                      1067 non-null   object \n",
            " 2   MODEL                     1067 non-null   object \n",
            " 3   VEHICLECLASS              1067 non-null   object \n",
            " 4   ENGINESIZE                1067 non-null   float64\n",
            " 5   CYLINDERS                 1067 non-null   int64  \n",
            " 6   TRANSMISSION              1067 non-null   object \n",
            " 7   FUELTYPE                  1067 non-null   object \n",
            " 8   FUELCONSUMPTION_CITY      1067 non-null   float64\n",
            " 9   FUELCONSUMPTION_HWY       1067 non-null   float64\n",
            " 10  FUELCONSUMPTION_COMB      1067 non-null   float64\n",
            " 11  FUELCONSUMPTION_COMB_MPG  1067 non-null   int64  \n",
            " 12  CO2EMISSIONS              1067 non-null   int64  \n",
            "dtypes: float64(4), int64(4), object(5)\n",
            "memory usage: 108.5+ KB\n"
          ]
        }
      ]
    },
    {
      "cell_type": "code",
      "source": [
        "#visualizando o shape do conjunto\n",
        "df.shape"
      ],
      "metadata": {
        "colab": {
          "base_uri": "https://localhost:8080/"
        },
        "id": "jacGGps7EZxI",
        "outputId": "0bcd46f9-f846-4886-9517-07cce59ed9d0"
      },
      "execution_count": null,
      "outputs": [
        {
          "output_type": "execute_result",
          "data": {
            "text/plain": [
              "(1067, 13)"
            ]
          },
          "metadata": {},
          "execution_count": 30
        }
      ]
    },
    {
      "cell_type": "markdown",
      "source": [
        "Existem 1067 dados em um conjunto único. Cada um é descrito em 13 variáveis. Algumas variáveis são categóricas. Elas serão transformadas a fim plotar a matriz de correlação entre as variáveis do conjunto. Variáveis categóricas: MAKE, MODEL, VEHICLECLASS, TRANSMISSION, FUELTYPE. As variáveis MODELYEAR, CYLINDERS serão transformadas para float.  "
      ],
      "metadata": {
        "id": "V0OYcd7dDxaP"
      }
    },
    {
      "cell_type": "code",
      "source": [
        "#plotando a correlaçao de pearson antes de transformar o tipo das variaveis\n",
        "\n",
        "#correlaçao a partir da variavel enginesize\n",
        "corr = df.iloc[:,1:].corr()\n",
        "display(corr)"
      ],
      "metadata": {
        "colab": {
          "base_uri": "https://localhost:8080/",
          "height": 368
        },
        "id": "fO_IHgFFPl6x",
        "outputId": "e442a143-6702-4ddf-e093-7a8d350b37ee"
      },
      "execution_count": null,
      "outputs": [
        {
          "output_type": "stream",
          "name": "stderr",
          "text": [
            "<ipython-input-60-db73e6bd23d2>:1: FutureWarning: The default value of numeric_only in DataFrame.corr is deprecated. In a future version, it will default to False. Select only valid columns or specify the value of numeric_only to silence this warning.\n",
            "  corr = df.iloc[:,1:].corr()\n"
          ]
        },
        {
          "output_type": "display_data",
          "data": {
            "text/plain": [
              "                          ENGINESIZE  CYLINDERS  FUELCONSUMPTION_CITY  \\\n",
              "ENGINESIZE                  1.000000   0.934011              0.832225   \n",
              "CYLINDERS                   0.934011   1.000000              0.796473   \n",
              "FUELCONSUMPTION_CITY        0.832225   0.796473              1.000000   \n",
              "FUELCONSUMPTION_HWY         0.778746   0.724594              0.965718   \n",
              "FUELCONSUMPTION_COMB        0.819482   0.776788              0.995542   \n",
              "FUELCONSUMPTION_COMB_MPG   -0.808554  -0.770430             -0.935613   \n",
              "CO2EMISSIONS                0.874154   0.849685              0.898039   \n",
              "\n",
              "                          FUELCONSUMPTION_HWY  FUELCONSUMPTION_COMB  \\\n",
              "ENGINESIZE                           0.778746              0.819482   \n",
              "CYLINDERS                            0.724594              0.776788   \n",
              "FUELCONSUMPTION_CITY                 0.965718              0.995542   \n",
              "FUELCONSUMPTION_HWY                  1.000000              0.985804   \n",
              "FUELCONSUMPTION_COMB                 0.985804              1.000000   \n",
              "FUELCONSUMPTION_COMB_MPG            -0.893809             -0.927965   \n",
              "CO2EMISSIONS                         0.861748              0.892129   \n",
              "\n",
              "                          FUELCONSUMPTION_COMB_MPG  CO2EMISSIONS  \n",
              "ENGINESIZE                               -0.808554      0.874154  \n",
              "CYLINDERS                                -0.770430      0.849685  \n",
              "FUELCONSUMPTION_CITY                     -0.935613      0.898039  \n",
              "FUELCONSUMPTION_HWY                      -0.893809      0.861748  \n",
              "FUELCONSUMPTION_COMB                     -0.927965      0.892129  \n",
              "FUELCONSUMPTION_COMB_MPG                  1.000000     -0.906394  \n",
              "CO2EMISSIONS                             -0.906394      1.000000  "
            ],
            "text/html": [
              "\n",
              "  <div id=\"df-910fcfe2-e7d1-4a90-a29f-dfd66ccccd48\">\n",
              "    <div class=\"colab-df-container\">\n",
              "      <div>\n",
              "<style scoped>\n",
              "    .dataframe tbody tr th:only-of-type {\n",
              "        vertical-align: middle;\n",
              "    }\n",
              "\n",
              "    .dataframe tbody tr th {\n",
              "        vertical-align: top;\n",
              "    }\n",
              "\n",
              "    .dataframe thead th {\n",
              "        text-align: right;\n",
              "    }\n",
              "</style>\n",
              "<table border=\"1\" class=\"dataframe\">\n",
              "  <thead>\n",
              "    <tr style=\"text-align: right;\">\n",
              "      <th></th>\n",
              "      <th>ENGINESIZE</th>\n",
              "      <th>CYLINDERS</th>\n",
              "      <th>FUELCONSUMPTION_CITY</th>\n",
              "      <th>FUELCONSUMPTION_HWY</th>\n",
              "      <th>FUELCONSUMPTION_COMB</th>\n",
              "      <th>FUELCONSUMPTION_COMB_MPG</th>\n",
              "      <th>CO2EMISSIONS</th>\n",
              "    </tr>\n",
              "  </thead>\n",
              "  <tbody>\n",
              "    <tr>\n",
              "      <th>ENGINESIZE</th>\n",
              "      <td>1.000000</td>\n",
              "      <td>0.934011</td>\n",
              "      <td>0.832225</td>\n",
              "      <td>0.778746</td>\n",
              "      <td>0.819482</td>\n",
              "      <td>-0.808554</td>\n",
              "      <td>0.874154</td>\n",
              "    </tr>\n",
              "    <tr>\n",
              "      <th>CYLINDERS</th>\n",
              "      <td>0.934011</td>\n",
              "      <td>1.000000</td>\n",
              "      <td>0.796473</td>\n",
              "      <td>0.724594</td>\n",
              "      <td>0.776788</td>\n",
              "      <td>-0.770430</td>\n",
              "      <td>0.849685</td>\n",
              "    </tr>\n",
              "    <tr>\n",
              "      <th>FUELCONSUMPTION_CITY</th>\n",
              "      <td>0.832225</td>\n",
              "      <td>0.796473</td>\n",
              "      <td>1.000000</td>\n",
              "      <td>0.965718</td>\n",
              "      <td>0.995542</td>\n",
              "      <td>-0.935613</td>\n",
              "      <td>0.898039</td>\n",
              "    </tr>\n",
              "    <tr>\n",
              "      <th>FUELCONSUMPTION_HWY</th>\n",
              "      <td>0.778746</td>\n",
              "      <td>0.724594</td>\n",
              "      <td>0.965718</td>\n",
              "      <td>1.000000</td>\n",
              "      <td>0.985804</td>\n",
              "      <td>-0.893809</td>\n",
              "      <td>0.861748</td>\n",
              "    </tr>\n",
              "    <tr>\n",
              "      <th>FUELCONSUMPTION_COMB</th>\n",
              "      <td>0.819482</td>\n",
              "      <td>0.776788</td>\n",
              "      <td>0.995542</td>\n",
              "      <td>0.985804</td>\n",
              "      <td>1.000000</td>\n",
              "      <td>-0.927965</td>\n",
              "      <td>0.892129</td>\n",
              "    </tr>\n",
              "    <tr>\n",
              "      <th>FUELCONSUMPTION_COMB_MPG</th>\n",
              "      <td>-0.808554</td>\n",
              "      <td>-0.770430</td>\n",
              "      <td>-0.935613</td>\n",
              "      <td>-0.893809</td>\n",
              "      <td>-0.927965</td>\n",
              "      <td>1.000000</td>\n",
              "      <td>-0.906394</td>\n",
              "    </tr>\n",
              "    <tr>\n",
              "      <th>CO2EMISSIONS</th>\n",
              "      <td>0.874154</td>\n",
              "      <td>0.849685</td>\n",
              "      <td>0.898039</td>\n",
              "      <td>0.861748</td>\n",
              "      <td>0.892129</td>\n",
              "      <td>-0.906394</td>\n",
              "      <td>1.000000</td>\n",
              "    </tr>\n",
              "  </tbody>\n",
              "</table>\n",
              "</div>\n",
              "      <button class=\"colab-df-convert\" onclick=\"convertToInteractive('df-910fcfe2-e7d1-4a90-a29f-dfd66ccccd48')\"\n",
              "              title=\"Convert this dataframe to an interactive table.\"\n",
              "              style=\"display:none;\">\n",
              "        \n",
              "  <svg xmlns=\"http://www.w3.org/2000/svg\" height=\"24px\"viewBox=\"0 0 24 24\"\n",
              "       width=\"24px\">\n",
              "    <path d=\"M0 0h24v24H0V0z\" fill=\"none\"/>\n",
              "    <path d=\"M18.56 5.44l.94 2.06.94-2.06 2.06-.94-2.06-.94-.94-2.06-.94 2.06-2.06.94zm-11 1L8.5 8.5l.94-2.06 2.06-.94-2.06-.94L8.5 2.5l-.94 2.06-2.06.94zm10 10l.94 2.06.94-2.06 2.06-.94-2.06-.94-.94-2.06-.94 2.06-2.06.94z\"/><path d=\"M17.41 7.96l-1.37-1.37c-.4-.4-.92-.59-1.43-.59-.52 0-1.04.2-1.43.59L10.3 9.45l-7.72 7.72c-.78.78-.78 2.05 0 2.83L4 21.41c.39.39.9.59 1.41.59.51 0 1.02-.2 1.41-.59l7.78-7.78 2.81-2.81c.8-.78.8-2.07 0-2.86zM5.41 20L4 18.59l7.72-7.72 1.47 1.35L5.41 20z\"/>\n",
              "  </svg>\n",
              "      </button>\n",
              "      \n",
              "  <style>\n",
              "    .colab-df-container {\n",
              "      display:flex;\n",
              "      flex-wrap:wrap;\n",
              "      gap: 12px;\n",
              "    }\n",
              "\n",
              "    .colab-df-convert {\n",
              "      background-color: #E8F0FE;\n",
              "      border: none;\n",
              "      border-radius: 50%;\n",
              "      cursor: pointer;\n",
              "      display: none;\n",
              "      fill: #1967D2;\n",
              "      height: 32px;\n",
              "      padding: 0 0 0 0;\n",
              "      width: 32px;\n",
              "    }\n",
              "\n",
              "    .colab-df-convert:hover {\n",
              "      background-color: #E2EBFA;\n",
              "      box-shadow: 0px 1px 2px rgba(60, 64, 67, 0.3), 0px 1px 3px 1px rgba(60, 64, 67, 0.15);\n",
              "      fill: #174EA6;\n",
              "    }\n",
              "\n",
              "    [theme=dark] .colab-df-convert {\n",
              "      background-color: #3B4455;\n",
              "      fill: #D2E3FC;\n",
              "    }\n",
              "\n",
              "    [theme=dark] .colab-df-convert:hover {\n",
              "      background-color: #434B5C;\n",
              "      box-shadow: 0px 1px 3px 1px rgba(0, 0, 0, 0.15);\n",
              "      filter: drop-shadow(0px 1px 2px rgba(0, 0, 0, 0.3));\n",
              "      fill: #FFFFFF;\n",
              "    }\n",
              "  </style>\n",
              "\n",
              "      <script>\n",
              "        const buttonEl =\n",
              "          document.querySelector('#df-910fcfe2-e7d1-4a90-a29f-dfd66ccccd48 button.colab-df-convert');\n",
              "        buttonEl.style.display =\n",
              "          google.colab.kernel.accessAllowed ? 'block' : 'none';\n",
              "\n",
              "        async function convertToInteractive(key) {\n",
              "          const element = document.querySelector('#df-910fcfe2-e7d1-4a90-a29f-dfd66ccccd48');\n",
              "          const dataTable =\n",
              "            await google.colab.kernel.invokeFunction('convertToInteractive',\n",
              "                                                     [key], {});\n",
              "          if (!dataTable) return;\n",
              "\n",
              "          const docLinkHtml = 'Like what you see? Visit the ' +\n",
              "            '<a target=\"_blank\" href=https://colab.research.google.com/notebooks/data_table.ipynb>data table notebook</a>'\n",
              "            + ' to learn more about interactive tables.';\n",
              "          element.innerHTML = '';\n",
              "          dataTable['output_type'] = 'display_data';\n",
              "          await google.colab.output.renderOutput(dataTable, element);\n",
              "          const docLink = document.createElement('div');\n",
              "          docLink.innerHTML = docLinkHtml;\n",
              "          element.appendChild(docLink);\n",
              "        }\n",
              "      </script>\n",
              "    </div>\n",
              "  </div>\n",
              "  "
            ]
          },
          "metadata": {}
        }
      ]
    },
    {
      "cell_type": "code",
      "source": [
        "#transformando variaveis int para float\n",
        "df['MODELYEAR'] = df['MODELYEAR'].astype(float)\n",
        "df['CYLINDERS'] = df['CYLINDERS'].astype(float)"
      ],
      "metadata": {
        "id": "e_RDhcxQAC9F"
      },
      "execution_count": null,
      "outputs": []
    },
    {
      "cell_type": "code",
      "source": [
        "#criando dicionarios para converter as variaveis categoricas em numéricas\n",
        "\n",
        "#dict para conversao \n",
        "\n",
        "def conversao(data):\n",
        "  dict_column,i = {},0\n",
        "  unique = data.unique()\n",
        "  for name in unique:\n",
        "    i += 1\n",
        "    dict_column[name]=float(i)\n",
        "  return dict_column\n",
        "\n",
        "df.MAKE = df.MAKE.map(conversao(df.MAKE))\n",
        "df.MODEL = df.MODEL.map(conversao(df.MODEL))\n",
        "df.VEHICLECLASS = df.VEHICLECLASS.map(conversao(df.VEHICLECLASS))\n",
        "df.TRANSMISSION = df.TRANSMISSION.map(conversao(df.TRANSMISSION))\n",
        "df.FUELTYPE = df.FUELTYPE.map(conversao(df.FUELTYPE))"
      ],
      "metadata": {
        "id": "rO52lwC4ChK_"
      },
      "execution_count": null,
      "outputs": []
    },
    {
      "cell_type": "code",
      "source": [
        "df"
      ],
      "metadata": {
        "colab": {
          "base_uri": "https://localhost:8080/",
          "height": 488
        },
        "id": "hoTT_XS-JppH",
        "outputId": "c3ea3fd1-9abd-4746-b599-0f3056d36e01"
      },
      "execution_count": null,
      "outputs": [
        {
          "output_type": "execute_result",
          "data": {
            "text/plain": [
              "      MODELYEAR  MAKE  MODEL  VEHICLECLASS  ENGINESIZE  CYLINDERS  \\\n",
              "0        2014.0   1.0    1.0           1.0         2.0        4.0   \n",
              "1        2014.0   1.0    1.0           1.0         2.4        4.0   \n",
              "2        2014.0   1.0    2.0           1.0         1.5        4.0   \n",
              "3        2014.0   1.0    3.0           2.0         3.5        6.0   \n",
              "4        2014.0   1.0    4.0           2.0         3.5        6.0   \n",
              "...         ...   ...    ...           ...         ...        ...   \n",
              "1062     2014.0  39.0  661.0           2.0         3.0        6.0   \n",
              "1063     2014.0  39.0  661.0           2.0         3.2        6.0   \n",
              "1064     2014.0  39.0  662.0           2.0         3.0        6.0   \n",
              "1065     2014.0  39.0  662.0           2.0         3.2        6.0   \n",
              "1066     2014.0  39.0  663.0           9.0         3.2        6.0   \n",
              "\n",
              "      TRANSMISSION  FUELTYPE  FUELCONSUMPTION_CITY  FUELCONSUMPTION_HWY  \\\n",
              "0              1.0       1.0                   9.9                  6.7   \n",
              "1              2.0       1.0                  11.2                  7.7   \n",
              "2              3.0       1.0                   6.0                  5.8   \n",
              "3              4.0       1.0                  12.7                  9.1   \n",
              "4              4.0       1.0                  12.1                  8.7   \n",
              "...            ...       ...                   ...                  ...   \n",
              "1062           4.0       3.0                  13.4                  9.8   \n",
              "1063           4.0       3.0                  13.2                  9.5   \n",
              "1064           4.0       3.0                  13.4                  9.8   \n",
              "1065           4.0       3.0                  12.9                  9.3   \n",
              "1066           4.0       3.0                  14.9                 10.2   \n",
              "\n",
              "      FUELCONSUMPTION_COMB  FUELCONSUMPTION_COMB_MPG  CO2EMISSIONS  \n",
              "0                      8.5                        33           196  \n",
              "1                      9.6                        29           221  \n",
              "2                      5.9                        48           136  \n",
              "3                     11.1                        25           255  \n",
              "4                     10.6                        27           244  \n",
              "...                    ...                       ...           ...  \n",
              "1062                  11.8                        24           271  \n",
              "1063                  11.5                        25           264  \n",
              "1064                  11.8                        24           271  \n",
              "1065                  11.3                        25           260  \n",
              "1066                  12.8                        22           294  \n",
              "\n",
              "[1067 rows x 13 columns]"
            ],
            "text/html": [
              "\n",
              "  <div id=\"df-c88f04e3-2e33-4af1-9879-acf52baaedd7\">\n",
              "    <div class=\"colab-df-container\">\n",
              "      <div>\n",
              "<style scoped>\n",
              "    .dataframe tbody tr th:only-of-type {\n",
              "        vertical-align: middle;\n",
              "    }\n",
              "\n",
              "    .dataframe tbody tr th {\n",
              "        vertical-align: top;\n",
              "    }\n",
              "\n",
              "    .dataframe thead th {\n",
              "        text-align: right;\n",
              "    }\n",
              "</style>\n",
              "<table border=\"1\" class=\"dataframe\">\n",
              "  <thead>\n",
              "    <tr style=\"text-align: right;\">\n",
              "      <th></th>\n",
              "      <th>MODELYEAR</th>\n",
              "      <th>MAKE</th>\n",
              "      <th>MODEL</th>\n",
              "      <th>VEHICLECLASS</th>\n",
              "      <th>ENGINESIZE</th>\n",
              "      <th>CYLINDERS</th>\n",
              "      <th>TRANSMISSION</th>\n",
              "      <th>FUELTYPE</th>\n",
              "      <th>FUELCONSUMPTION_CITY</th>\n",
              "      <th>FUELCONSUMPTION_HWY</th>\n",
              "      <th>FUELCONSUMPTION_COMB</th>\n",
              "      <th>FUELCONSUMPTION_COMB_MPG</th>\n",
              "      <th>CO2EMISSIONS</th>\n",
              "    </tr>\n",
              "  </thead>\n",
              "  <tbody>\n",
              "    <tr>\n",
              "      <th>0</th>\n",
              "      <td>2014.0</td>\n",
              "      <td>1.0</td>\n",
              "      <td>1.0</td>\n",
              "      <td>1.0</td>\n",
              "      <td>2.0</td>\n",
              "      <td>4.0</td>\n",
              "      <td>1.0</td>\n",
              "      <td>1.0</td>\n",
              "      <td>9.9</td>\n",
              "      <td>6.7</td>\n",
              "      <td>8.5</td>\n",
              "      <td>33</td>\n",
              "      <td>196</td>\n",
              "    </tr>\n",
              "    <tr>\n",
              "      <th>1</th>\n",
              "      <td>2014.0</td>\n",
              "      <td>1.0</td>\n",
              "      <td>1.0</td>\n",
              "      <td>1.0</td>\n",
              "      <td>2.4</td>\n",
              "      <td>4.0</td>\n",
              "      <td>2.0</td>\n",
              "      <td>1.0</td>\n",
              "      <td>11.2</td>\n",
              "      <td>7.7</td>\n",
              "      <td>9.6</td>\n",
              "      <td>29</td>\n",
              "      <td>221</td>\n",
              "    </tr>\n",
              "    <tr>\n",
              "      <th>2</th>\n",
              "      <td>2014.0</td>\n",
              "      <td>1.0</td>\n",
              "      <td>2.0</td>\n",
              "      <td>1.0</td>\n",
              "      <td>1.5</td>\n",
              "      <td>4.0</td>\n",
              "      <td>3.0</td>\n",
              "      <td>1.0</td>\n",
              "      <td>6.0</td>\n",
              "      <td>5.8</td>\n",
              "      <td>5.9</td>\n",
              "      <td>48</td>\n",
              "      <td>136</td>\n",
              "    </tr>\n",
              "    <tr>\n",
              "      <th>3</th>\n",
              "      <td>2014.0</td>\n",
              "      <td>1.0</td>\n",
              "      <td>3.0</td>\n",
              "      <td>2.0</td>\n",
              "      <td>3.5</td>\n",
              "      <td>6.0</td>\n",
              "      <td>4.0</td>\n",
              "      <td>1.0</td>\n",
              "      <td>12.7</td>\n",
              "      <td>9.1</td>\n",
              "      <td>11.1</td>\n",
              "      <td>25</td>\n",
              "      <td>255</td>\n",
              "    </tr>\n",
              "    <tr>\n",
              "      <th>4</th>\n",
              "      <td>2014.0</td>\n",
              "      <td>1.0</td>\n",
              "      <td>4.0</td>\n",
              "      <td>2.0</td>\n",
              "      <td>3.5</td>\n",
              "      <td>6.0</td>\n",
              "      <td>4.0</td>\n",
              "      <td>1.0</td>\n",
              "      <td>12.1</td>\n",
              "      <td>8.7</td>\n",
              "      <td>10.6</td>\n",
              "      <td>27</td>\n",
              "      <td>244</td>\n",
              "    </tr>\n",
              "    <tr>\n",
              "      <th>...</th>\n",
              "      <td>...</td>\n",
              "      <td>...</td>\n",
              "      <td>...</td>\n",
              "      <td>...</td>\n",
              "      <td>...</td>\n",
              "      <td>...</td>\n",
              "      <td>...</td>\n",
              "      <td>...</td>\n",
              "      <td>...</td>\n",
              "      <td>...</td>\n",
              "      <td>...</td>\n",
              "      <td>...</td>\n",
              "      <td>...</td>\n",
              "    </tr>\n",
              "    <tr>\n",
              "      <th>1062</th>\n",
              "      <td>2014.0</td>\n",
              "      <td>39.0</td>\n",
              "      <td>661.0</td>\n",
              "      <td>2.0</td>\n",
              "      <td>3.0</td>\n",
              "      <td>6.0</td>\n",
              "      <td>4.0</td>\n",
              "      <td>3.0</td>\n",
              "      <td>13.4</td>\n",
              "      <td>9.8</td>\n",
              "      <td>11.8</td>\n",
              "      <td>24</td>\n",
              "      <td>271</td>\n",
              "    </tr>\n",
              "    <tr>\n",
              "      <th>1063</th>\n",
              "      <td>2014.0</td>\n",
              "      <td>39.0</td>\n",
              "      <td>661.0</td>\n",
              "      <td>2.0</td>\n",
              "      <td>3.2</td>\n",
              "      <td>6.0</td>\n",
              "      <td>4.0</td>\n",
              "      <td>3.0</td>\n",
              "      <td>13.2</td>\n",
              "      <td>9.5</td>\n",
              "      <td>11.5</td>\n",
              "      <td>25</td>\n",
              "      <td>264</td>\n",
              "    </tr>\n",
              "    <tr>\n",
              "      <th>1064</th>\n",
              "      <td>2014.0</td>\n",
              "      <td>39.0</td>\n",
              "      <td>662.0</td>\n",
              "      <td>2.0</td>\n",
              "      <td>3.0</td>\n",
              "      <td>6.0</td>\n",
              "      <td>4.0</td>\n",
              "      <td>3.0</td>\n",
              "      <td>13.4</td>\n",
              "      <td>9.8</td>\n",
              "      <td>11.8</td>\n",
              "      <td>24</td>\n",
              "      <td>271</td>\n",
              "    </tr>\n",
              "    <tr>\n",
              "      <th>1065</th>\n",
              "      <td>2014.0</td>\n",
              "      <td>39.0</td>\n",
              "      <td>662.0</td>\n",
              "      <td>2.0</td>\n",
              "      <td>3.2</td>\n",
              "      <td>6.0</td>\n",
              "      <td>4.0</td>\n",
              "      <td>3.0</td>\n",
              "      <td>12.9</td>\n",
              "      <td>9.3</td>\n",
              "      <td>11.3</td>\n",
              "      <td>25</td>\n",
              "      <td>260</td>\n",
              "    </tr>\n",
              "    <tr>\n",
              "      <th>1066</th>\n",
              "      <td>2014.0</td>\n",
              "      <td>39.0</td>\n",
              "      <td>663.0</td>\n",
              "      <td>9.0</td>\n",
              "      <td>3.2</td>\n",
              "      <td>6.0</td>\n",
              "      <td>4.0</td>\n",
              "      <td>3.0</td>\n",
              "      <td>14.9</td>\n",
              "      <td>10.2</td>\n",
              "      <td>12.8</td>\n",
              "      <td>22</td>\n",
              "      <td>294</td>\n",
              "    </tr>\n",
              "  </tbody>\n",
              "</table>\n",
              "<p>1067 rows × 13 columns</p>\n",
              "</div>\n",
              "      <button class=\"colab-df-convert\" onclick=\"convertToInteractive('df-c88f04e3-2e33-4af1-9879-acf52baaedd7')\"\n",
              "              title=\"Convert this dataframe to an interactive table.\"\n",
              "              style=\"display:none;\">\n",
              "        \n",
              "  <svg xmlns=\"http://www.w3.org/2000/svg\" height=\"24px\"viewBox=\"0 0 24 24\"\n",
              "       width=\"24px\">\n",
              "    <path d=\"M0 0h24v24H0V0z\" fill=\"none\"/>\n",
              "    <path d=\"M18.56 5.44l.94 2.06.94-2.06 2.06-.94-2.06-.94-.94-2.06-.94 2.06-2.06.94zm-11 1L8.5 8.5l.94-2.06 2.06-.94-2.06-.94L8.5 2.5l-.94 2.06-2.06.94zm10 10l.94 2.06.94-2.06 2.06-.94-2.06-.94-.94-2.06-.94 2.06-2.06.94z\"/><path d=\"M17.41 7.96l-1.37-1.37c-.4-.4-.92-.59-1.43-.59-.52 0-1.04.2-1.43.59L10.3 9.45l-7.72 7.72c-.78.78-.78 2.05 0 2.83L4 21.41c.39.39.9.59 1.41.59.51 0 1.02-.2 1.41-.59l7.78-7.78 2.81-2.81c.8-.78.8-2.07 0-2.86zM5.41 20L4 18.59l7.72-7.72 1.47 1.35L5.41 20z\"/>\n",
              "  </svg>\n",
              "      </button>\n",
              "      \n",
              "  <style>\n",
              "    .colab-df-container {\n",
              "      display:flex;\n",
              "      flex-wrap:wrap;\n",
              "      gap: 12px;\n",
              "    }\n",
              "\n",
              "    .colab-df-convert {\n",
              "      background-color: #E8F0FE;\n",
              "      border: none;\n",
              "      border-radius: 50%;\n",
              "      cursor: pointer;\n",
              "      display: none;\n",
              "      fill: #1967D2;\n",
              "      height: 32px;\n",
              "      padding: 0 0 0 0;\n",
              "      width: 32px;\n",
              "    }\n",
              "\n",
              "    .colab-df-convert:hover {\n",
              "      background-color: #E2EBFA;\n",
              "      box-shadow: 0px 1px 2px rgba(60, 64, 67, 0.3), 0px 1px 3px 1px rgba(60, 64, 67, 0.15);\n",
              "      fill: #174EA6;\n",
              "    }\n",
              "\n",
              "    [theme=dark] .colab-df-convert {\n",
              "      background-color: #3B4455;\n",
              "      fill: #D2E3FC;\n",
              "    }\n",
              "\n",
              "    [theme=dark] .colab-df-convert:hover {\n",
              "      background-color: #434B5C;\n",
              "      box-shadow: 0px 1px 3px 1px rgba(0, 0, 0, 0.15);\n",
              "      filter: drop-shadow(0px 1px 2px rgba(0, 0, 0, 0.3));\n",
              "      fill: #FFFFFF;\n",
              "    }\n",
              "  </style>\n",
              "\n",
              "      <script>\n",
              "        const buttonEl =\n",
              "          document.querySelector('#df-c88f04e3-2e33-4af1-9879-acf52baaedd7 button.colab-df-convert');\n",
              "        buttonEl.style.display =\n",
              "          google.colab.kernel.accessAllowed ? 'block' : 'none';\n",
              "\n",
              "        async function convertToInteractive(key) {\n",
              "          const element = document.querySelector('#df-c88f04e3-2e33-4af1-9879-acf52baaedd7');\n",
              "          const dataTable =\n",
              "            await google.colab.kernel.invokeFunction('convertToInteractive',\n",
              "                                                     [key], {});\n",
              "          if (!dataTable) return;\n",
              "\n",
              "          const docLinkHtml = 'Like what you see? Visit the ' +\n",
              "            '<a target=\"_blank\" href=https://colab.research.google.com/notebooks/data_table.ipynb>data table notebook</a>'\n",
              "            + ' to learn more about interactive tables.';\n",
              "          element.innerHTML = '';\n",
              "          dataTable['output_type'] = 'display_data';\n",
              "          await google.colab.output.renderOutput(dataTable, element);\n",
              "          const docLink = document.createElement('div');\n",
              "          docLink.innerHTML = docLinkHtml;\n",
              "          element.appendChild(docLink);\n",
              "        }\n",
              "      </script>\n",
              "    </div>\n",
              "  </div>\n",
              "  "
            ]
          },
          "metadata": {},
          "execution_count": 64
        }
      ]
    },
    {
      "cell_type": "code",
      "source": [
        "# 1. Exiba a Matriz de Correlação entre as variáveis\n",
        "#mapa de calor\n",
        "sb.heatmap(df.corr(), fmt=\".2f\", annot=True, center=0.0)"
      ],
      "metadata": {
        "colab": {
          "base_uri": "https://localhost:8080/",
          "height": 589
        },
        "id": "HgqtmOJnhuq7",
        "outputId": "d7f77fa0-c207-453e-80d1-1aa744ee04a6"
      },
      "execution_count": null,
      "outputs": [
        {
          "output_type": "execute_result",
          "data": {
            "text/plain": [
              "<Axes: >"
            ]
          },
          "metadata": {},
          "execution_count": 65
        },
        {
          "output_type": "display_data",
          "data": {
            "text/plain": [
              "<Figure size 640x480 with 2 Axes>"
            ],
            "image/png": "[encoded data removed]"
          },
          "metadata": {}
        }
      ]
    },
    {
      "cell_type": "code",
      "source": [
        "# 2. Atualize os nomes das seguintes colunas\n",
        "df = df.rename(columns={ 'FUELCONSUMPTION_CITY':'FUELCONSCITY', 'FUELCONSUMPTION_HWY':'FUELCONSHWY',\n",
        "                   'FUELCONSUMPTION_COMB':'FUELCONSCOMB','FUELCONSUMPTION_COMB_MPG':'FUELCONSCOMBMPG'})"
      ],
      "metadata": {
        "id": "rWnxlTf8iNFA"
      },
      "execution_count": null,
      "outputs": []
    },
    {
      "cell_type": "code",
      "source": [
        "# 3. Crie um novo dataframe com as seguintes colunas\n",
        "\n",
        "#colunas com altos valores de correlaçao\n",
        "df2 = df[['ENGINESIZE','CYLINDERS','FUELCONSCOMB','CO2EMISSIONS']]"
      ],
      "metadata": {
        "id": "U7Ss1MqSjFsT"
      },
      "execution_count": null,
      "outputs": []
    },
    {
      "cell_type": "code",
      "source": [
        "df2"
      ],
      "metadata": {
        "colab": {
          "base_uri": "https://localhost:8080/",
          "height": 424
        },
        "id": "D0_QK-LjjUPj",
        "outputId": "49ff0566-c76b-4211-b28c-a437b36c764a"
      },
      "execution_count": null,
      "outputs": [
        {
          "output_type": "execute_result",
          "data": {
            "text/plain": [
              "      ENGINESIZE  CYLINDERS  FUELCONSCOMB  CO2EMISSIONS\n",
              "0            2.0          4           8.5           196\n",
              "1            2.4          4           9.6           221\n",
              "2            1.5          4           5.9           136\n",
              "3            3.5          6          11.1           255\n",
              "4            3.5          6          10.6           244\n",
              "...          ...        ...           ...           ...\n",
              "1062         3.0          6          11.8           271\n",
              "1063         3.2          6          11.5           264\n",
              "1064         3.0          6          11.8           271\n",
              "1065         3.2          6          11.3           260\n",
              "1066         3.2          6          12.8           294\n",
              "\n",
              "[1067 rows x 4 columns]"
            ],
            "text/html": [
              "\n",
              "  <div id=\"df-214c961e-0734-447f-ae27-f5019751b3ec\">\n",
              "    <div class=\"colab-df-container\">\n",
              "      <div>\n",
              "<style scoped>\n",
              "    .dataframe tbody tr th:only-of-type {\n",
              "        vertical-align: middle;\n",
              "    }\n",
              "\n",
              "    .dataframe tbody tr th {\n",
              "        vertical-align: top;\n",
              "    }\n",
              "\n",
              "    .dataframe thead th {\n",
              "        text-align: right;\n",
              "    }\n",
              "</style>\n",
              "<table border=\"1\" class=\"dataframe\">\n",
              "  <thead>\n",
              "    <tr style=\"text-align: right;\">\n",
              "      <th></th>\n",
              "      <th>ENGINESIZE</th>\n",
              "      <th>CYLINDERS</th>\n",
              "      <th>FUELCONSCOMB</th>\n",
              "      <th>CO2EMISSIONS</th>\n",
              "    </tr>\n",
              "  </thead>\n",
              "  <tbody>\n",
              "    <tr>\n",
              "      <th>0</th>\n",
              "      <td>2.0</td>\n",
              "      <td>4</td>\n",
              "      <td>8.5</td>\n",
              "      <td>196</td>\n",
              "    </tr>\n",
              "    <tr>\n",
              "      <th>1</th>\n",
              "      <td>2.4</td>\n",
              "      <td>4</td>\n",
              "      <td>9.6</td>\n",
              "      <td>221</td>\n",
              "    </tr>\n",
              "    <tr>\n",
              "      <th>2</th>\n",
              "      <td>1.5</td>\n",
              "      <td>4</td>\n",
              "      <td>5.9</td>\n",
              "      <td>136</td>\n",
              "    </tr>\n",
              "    <tr>\n",
              "      <th>3</th>\n",
              "      <td>3.5</td>\n",
              "      <td>6</td>\n",
              "      <td>11.1</td>\n",
              "      <td>255</td>\n",
              "    </tr>\n",
              "    <tr>\n",
              "      <th>4</th>\n",
              "      <td>3.5</td>\n",
              "      <td>6</td>\n",
              "      <td>10.6</td>\n",
              "      <td>244</td>\n",
              "    </tr>\n",
              "    <tr>\n",
              "      <th>...</th>\n",
              "      <td>...</td>\n",
              "      <td>...</td>\n",
              "      <td>...</td>\n",
              "      <td>...</td>\n",
              "    </tr>\n",
              "    <tr>\n",
              "      <th>1062</th>\n",
              "      <td>3.0</td>\n",
              "      <td>6</td>\n",
              "      <td>11.8</td>\n",
              "      <td>271</td>\n",
              "    </tr>\n",
              "    <tr>\n",
              "      <th>1063</th>\n",
              "      <td>3.2</td>\n",
              "      <td>6</td>\n",
              "      <td>11.5</td>\n",
              "      <td>264</td>\n",
              "    </tr>\n",
              "    <tr>\n",
              "      <th>1064</th>\n",
              "      <td>3.0</td>\n",
              "      <td>6</td>\n",
              "      <td>11.8</td>\n",
              "      <td>271</td>\n",
              "    </tr>\n",
              "    <tr>\n",
              "      <th>1065</th>\n",
              "      <td>3.2</td>\n",
              "      <td>6</td>\n",
              "      <td>11.3</td>\n",
              "      <td>260</td>\n",
              "    </tr>\n",
              "    <tr>\n",
              "      <th>1066</th>\n",
              "      <td>3.2</td>\n",
              "      <td>6</td>\n",
              "      <td>12.8</td>\n",
              "      <td>294</td>\n",
              "    </tr>\n",
              "  </tbody>\n",
              "</table>\n",
              "<p>1067 rows × 4 columns</p>\n",
              "</div>\n",
              "      <button class=\"colab-df-convert\" onclick=\"convertToInteractive('df-214c961e-0734-447f-ae27-f5019751b3ec')\"\n",
              "              title=\"Convert this dataframe to an interactive table.\"\n",
              "              style=\"display:none;\">\n",
              "        \n",
              "  <svg xmlns=\"http://www.w3.org/2000/svg\" height=\"24px\"viewBox=\"0 0 24 24\"\n",
              "       width=\"24px\">\n",
              "    <path d=\"M0 0h24v24H0V0z\" fill=\"none\"/>\n",
              "    <path d=\"M18.56 5.44l.94 2.06.94-2.06 2.06-.94-2.06-.94-.94-2.06-.94 2.06-2.06.94zm-11 1L8.5 8.5l.94-2.06 2.06-.94-2.06-.94L8.5 2.5l-.94 2.06-2.06.94zm10 10l.94 2.06.94-2.06 2.06-.94-2.06-.94-.94-2.06-.94 2.06-2.06.94z\"/><path d=\"M17.41 7.96l-1.37-1.37c-.4-.4-.92-.59-1.43-.59-.52 0-1.04.2-1.43.59L10.3 9.45l-7.72 7.72c-.78.78-.78 2.05 0 2.83L4 21.41c.39.39.9.59 1.41.59.51 0 1.02-.2 1.41-.59l7.78-7.78 2.81-2.81c.8-.78.8-2.07 0-2.86zM5.41 20L4 18.59l7.72-7.72 1.47 1.35L5.41 20z\"/>\n",
              "  </svg>\n",
              "      </button>\n",
              "      \n",
              "  <style>\n",
              "    .colab-df-container {\n",
              "      display:flex;\n",
              "      flex-wrap:wrap;\n",
              "      gap: 12px;\n",
              "    }\n",
              "\n",
              "    .colab-df-convert {\n",
              "      background-color: #E8F0FE;\n",
              "      border: none;\n",
              "      border-radius: 50%;\n",
              "      cursor: pointer;\n",
              "      display: none;\n",
              "      fill: #1967D2;\n",
              "      height: 32px;\n",
              "      padding: 0 0 0 0;\n",
              "      width: 32px;\n",
              "    }\n",
              "\n",
              "    .colab-df-convert:hover {\n",
              "      background-color: #E2EBFA;\n",
              "      box-shadow: 0px 1px 2px rgba(60, 64, 67, 0.3), 0px 1px 3px 1px rgba(60, 64, 67, 0.15);\n",
              "      fill: #174EA6;\n",
              "    }\n",
              "\n",
              "    [theme=dark] .colab-df-convert {\n",
              "      background-color: #3B4455;\n",
              "      fill: #D2E3FC;\n",
              "    }\n",
              "\n",
              "    [theme=dark] .colab-df-convert:hover {\n",
              "      background-color: #434B5C;\n",
              "      box-shadow: 0px 1px 3px 1px rgba(0, 0, 0, 0.15);\n",
              "      filter: drop-shadow(0px 1px 2px rgba(0, 0, 0, 0.3));\n",
              "      fill: #FFFFFF;\n",
              "    }\n",
              "  </style>\n",
              "\n",
              "      <script>\n",
              "        const buttonEl =\n",
              "          document.querySelector('#df-214c961e-0734-447f-ae27-f5019751b3ec button.colab-df-convert');\n",
              "        buttonEl.style.display =\n",
              "          google.colab.kernel.accessAllowed ? 'block' : 'none';\n",
              "\n",
              "        async function convertToInteractive(key) {\n",
              "          const element = document.querySelector('#df-214c961e-0734-447f-ae27-f5019751b3ec');\n",
              "          const dataTable =\n",
              "            await google.colab.kernel.invokeFunction('convertToInteractive',\n",
              "                                                     [key], {});\n",
              "          if (!dataTable) return;\n",
              "\n",
              "          const docLinkHtml = 'Like what you see? Visit the ' +\n",
              "            '<a target=\"_blank\" href=https://colab.research.google.com/notebooks/data_table.ipynb>data table notebook</a>'\n",
              "            + ' to learn more about interactive tables.';\n",
              "          element.innerHTML = '';\n",
              "          dataTable['output_type'] = 'display_data';\n",
              "          await google.colab.output.renderOutput(dataTable, element);\n",
              "          const docLink = document.createElement('div');\n",
              "          docLink.innerHTML = docLinkHtml;\n",
              "          element.appendChild(docLink);\n",
              "        }\n",
              "      </script>\n",
              "    </div>\n",
              "  </div>\n",
              "  "
            ]
          },
          "metadata": {},
          "execution_count": 68
        }
      ]
    },
    {
      "cell_type": "code",
      "source": [
        "# 4. Faça as seguintes análises:\n",
        "\n",
        "# 4.1. Separe os dados de treino e teste\n",
        "\n",
        "from sklearn.model_selection import train_test_split\n",
        "\n",
        "#percentual adotado de 70, 30\n",
        "treino, teste = train_test_split(df2, test_size=0.3, random_state=42)"
      ],
      "metadata": {
        "id": "9bW51xGSjaVc"
      },
      "execution_count": null,
      "outputs": []
    },
    {
      "cell_type": "code",
      "source": [
        "print('Shape do conjunto de treino: ',treino.shape)\n",
        "print('Shape do conjunto de teste: ',teste.shape)"
      ],
      "metadata": {
        "colab": {
          "base_uri": "https://localhost:8080/"
        },
        "id": "XeIFbfL5QvWy",
        "outputId": "16572fac-d78f-4820-b87d-a477a9f4172d"
      },
      "execution_count": null,
      "outputs": [
        {
          "output_type": "stream",
          "name": "stdout",
          "text": [
            "Shape do conjunto de treino:  (746, 4)\n",
            "Shape do conjunto de teste:  (321, 4)\n"
          ]
        }
      ]
    },
    {
      "cell_type": "code",
      "source": [
        "# 4.2. Import sklearn library\n",
        "import sklearn "
      ],
      "metadata": {
        "id": "dJ7HBBxCj6yi"
      },
      "execution_count": null,
      "outputs": []
    },
    {
      "cell_type": "code",
      "source": [
        "#4.3. Crie a variável com o modelo de Regressão Linear\n",
        "from sklearn.linear_model import LinearRegression\n",
        "#variavel com o modelo\n",
        "lr = LinearRegression()"
      ],
      "metadata": {
        "id": "odK1gxLgkKFn"
      },
      "execution_count": null,
      "outputs": []
    },
    {
      "cell_type": "code",
      "source": [
        "# 4.4. Separe os dados de treino e teste\n",
        "\n",
        "#percentual adotado de 70, 30\n",
        "treino, teste = train_test_split(df2, test_size=0.3, random_state=42)"
      ],
      "metadata": {
        "id": "3yGUu79tlN8v"
      },
      "execution_count": null,
      "outputs": []
    },
    {
      "cell_type": "code",
      "source": [
        "# 4.5. Separe as Features de Treino e Teste\n",
        "\n",
        "#escolhendo a primeira variavel ENGINESIZE como x e CO2EMISSIONS como y \n",
        "X = df['ENGINESIZE']\n",
        "y = df['CO2EMISSIONS']"
      ],
      "metadata": {
        "id": "EyauSRwvl2OT"
      },
      "execution_count": null,
      "outputs": []
    },
    {
      "cell_type": "code",
      "source": [
        "X_treino, y_treino = np.asanyarray(treino['ENGINESIZE']), np.asanyarray(treino['CO2EMISSIONS'])\n",
        "X_teste, y_teste = np.asanyarray(teste['ENGINESIZE']), np.asanyarray(teste['CO2EMISSIONS'])"
      ],
      "metadata": {
        "id": "tWpZPnoTlUxF"
      },
      "execution_count": null,
      "outputs": []
    },
    {
      "cell_type": "code",
      "source": [
        "# 4.6. Rode o Modelo\n",
        "modelo = lr.fit(X_treino.reshape(-1, 1), y_treino.reshape(-1, 1))"
      ],
      "metadata": {
        "id": "LNApXtvHmJfH"
      },
      "execution_count": null,
      "outputs": []
    },
    {
      "cell_type": "code",
      "source": [
        "# 4.7. Defina os valores para os coeficientes Theta 0: Intercepto e Theta 1: Coeficiente\n",
        "#valor do Theta 1 \n",
        "print('Valor Theta 1 (coeficiente): ',modelo.coef_)\n",
        "print('Valor Theta 0 (intercepto): ',modelo.intercept_)"
      ],
      "metadata": {
        "colab": {
          "base_uri": "https://localhost:8080/"
        },
        "id": "Rn2-ys35mA6v",
        "outputId": "f8dd6cc0-c995-4d7e-efcc-bef4b1e32ce9"
      },
      "execution_count": null,
      "outputs": [
        {
          "output_type": "stream",
          "name": "stdout",
          "text": [
            "Valor Theta 1 (coeficiente):  [[38.98292922]]\n",
            "Valor Theta 0 (intercepto):  [126.35436294]\n"
          ]
        }
      ]
    },
    {
      "cell_type": "code",
      "source": [
        "y_predito = modelo.predict(X_teste.reshape(-1, 1))"
      ],
      "metadata": {
        "id": "JJqk3xtbm4mH"
      },
      "execution_count": null,
      "outputs": []
    },
    {
      "cell_type": "code",
      "source": [
        "residuo = y_teste.reshape(-1, 1) - y_predito\n",
        "\n",
        "plt.hist(residuo, color='purple', bins=15)\n",
        "plt.title('Histograma dos resíduos - ENGINESIZE x CO2EMISSIONS')\n",
        "plt.show()"
      ],
      "metadata": {
        "colab": {
          "base_uri": "https://localhost:8080/",
          "height": 453
        },
        "id": "EhOLtqtBnUJU",
        "outputId": "1daa0019-0d0b-4bb3-bd5b-a93c33ac97a4"
      },
      "execution_count": null,
      "outputs": [
        {
          "output_type": "display_data",
          "data": {
            "text/plain": [
              "<Figure size 640x480 with 1 Axes>"
            ],
            "image/png": "[encoded data removed]"
          },
          "metadata": {}
        }
      ]
    },
    {
      "cell_type": "markdown",
      "source": [
        "Equação : \n",
        "* y = 38.98 x + 126.35"
      ],
      "metadata": {
        "id": "2KX0Os1nVRFX"
      }
    },
    {
      "cell_type": "code",
      "source": [
        "# 4.7. Plot o Gráfico de Regressão Linear com a Reta Ajustada\n",
        "\n",
        "ax = sb.regplot(x='ENGINESIZE', y='CO2EMISSIONS', line_kws={\"color\":\"C1\"},data=treino)\n",
        "\n",
        "#ax.legend('')\n",
        "\n",
        "plt.show()\n"
      ],
      "metadata": {
        "colab": {
          "base_uri": "https://localhost:8080/",
          "height": 449
        },
        "id": "lEn6tAv3mRMq",
        "outputId": "22daf843-0e5f-4f3e-d4a2-e425bf02575c"
      },
      "execution_count": null,
      "outputs": [
        {
          "output_type": "display_data",
          "data": {
            "text/plain": [
              "<Figure size 640x480 with 1 Axes>"
            ],
            "image/png": "[encoded data removed]"
          },
          "metadata": {}
        }
      ]
    },
    {
      "cell_type": "code",
      "source": [
        "# 4.8. Encontre o R2-Score\n",
        "from sklearn.metrics import r2_score\n",
        "print('O R2-Score obtido é: ', round(r2_score(y_teste.reshape(-1, 1),y_predito),2))"
      ],
      "metadata": {
        "id": "3bajrXkboqVp",
        "colab": {
          "base_uri": "https://localhost:8080/"
        },
        "outputId": "fe88d77e-baef-4d43-9f28-6b65c152083f"
      },
      "execution_count": null,
      "outputs": [
        {
          "output_type": "stream",
          "name": "stdout",
          "text": [
            "O R2-Score obtido é:  0.78\n"
          ]
        }
      ]
    },
    {
      "cell_type": "code",
      "source": [
        "# 5. Encontre o Melhor ajuste (R2-Score) entre as combinações de variáveis abaixo\n",
        "\n",
        "treino, teste = train_test_split(df2, test_size=0.3, random_state=42)\n",
        "y_treino, y_teste = np.asanyarray(treino['CO2EMISSIONS']), np.asanyarray(teste['CO2EMISSIONS'])\n",
        "\n",
        "#5.1.  FUELCONSCOMB & CO2EMISSIONS\n",
        "\n",
        "X_treino, X_teste = np.asanyarray(treino['FUELCONSCOMB']), np.asanyarray(teste['FUELCONSCOMB'])\n",
        "lr = LinearRegression()\n",
        "modelo = lr.fit(X_treino.reshape(-1, 1), y_treino.reshape(-1, 1))\n",
        "y_predito = modelo.predict(X_teste.reshape(-1, 1))\n",
        "print('O R2-Score obtido para FUELCONSCOMB & CO2EMISSIONS é: ', round(r2_score(y_teste.reshape(-1, 1),y_predito),2))\n",
        "\n",
        "#5.2. CYLINDERS & CO2EMISSIONS\n",
        "X_treino, X_teste = np.asanyarray(treino['CYLINDERS']), np.asanyarray(teste['CYLINDERS'])\n",
        "lr = LinearRegression()\n",
        "modelo = lr.fit(X_treino.reshape(-1, 1), y_treino.reshape(-1, 1))\n",
        "y_predito = modelo.predict(X_teste.reshape(-1, 1))\n",
        "print('O R2-Score obtido para CYLINDERS & CO2EMISSIONSé: ', round(r2_score(y_teste.reshape(-1, 1),y_predito),2))\n",
        "\n",
        "#5.3. ENGINESIZE & CO2EMISSIONS\n",
        "X_treino, X_teste = np.asanyarray(treino['ENGINESIZE']), np.asanyarray(teste['ENGINESIZE'])\n",
        "lr = LinearRegression()\n",
        "modelo = lr.fit(X_treino.reshape(-1, 1), y_treino.reshape(-1, 1))\n",
        "y_predito = modelo.predict(X_teste.reshape(-1, 1))\n",
        "print('O R2-Score obtido para ENGINESIZE & CO2EMISSIONS é: ', round(r2_score(y_teste.reshape(-1, 1),y_predito),2))"
      ],
      "metadata": {
        "id": "XjEhZvjOpnnH",
        "colab": {
          "base_uri": "https://localhost:8080/"
        },
        "outputId": "17861b1a-f634-4a54-fea8-f7cb7eb80dd2"
      },
      "execution_count": null,
      "outputs": [
        {
          "output_type": "stream",
          "name": "stdout",
          "text": [
            "O R2-Score obtido para FUELCONSCOMB & CO2EMISSIONS é:  0.8\n",
            "O R2-Score obtido para CYLINDERS & CO2EMISSIONSé:  0.74\n",
            "O R2-Score obtido para ENGINESIZE & CO2EMISSIONS é:  0.78\n"
          ]
        }
      ]
    },
    {
      "cell_type": "markdown",
      "source": [
        "Dentre as combinações avaliadas, a que obteve o maior valor para o R2-Score foi a FUELCONSCOMB para o CO2EMISSIONS. O interessante é que dentre as 3 variáveis independentes combinadas ao CO2EMISSIONS, a FUELCONSCOMB foi a que obteve o maior valor de correlação com a CO2EMISSIONS, o que pode explicar o alcance do maior valor de R2-Score na regressão em função dela. Contudo, todos os resultados de R2-Score obtidos pelas 3 regressões são valores altos e indicam que possivelmente elas possuem certa confiabilidade.  Além disso, todas as 3 variáveis independentes utilizadas em cada uma das regressões possuem alta correlação com a CO2EMISSIONS. "
      ],
      "metadata": {
        "id": "9owaof96Y_I8"
      }
    },
    {
      "cell_type": "code",
      "source": [
        "# 6. Tente realizar uma Regressão Linear Múltipla. Use as três variáveis.  "
      ],
      "metadata": {
        "id": "wLSeX5pLqQWy"
      },
      "execution_count": null,
      "outputs": []
    },
    {
      "cell_type": "code",
      "source": [
        "treino, teste = train_test_split(df2, test_size=0.3, random_state=42)\n",
        "\n",
        "#variavel dependente\n",
        "y_treino, y_teste = np.asanyarray(treino['CO2EMISSIONS']), np.asanyarray(teste['CO2EMISSIONS'])\n",
        "#variaveis independentes \n",
        "X_treino, X_teste = np.asanyarray(treino.drop(columns=['CO2EMISSIONS'])), np.asanyarray(teste.drop(columns=['CO2EMISSIONS']))\n",
        "#modelo \n",
        "lr = LinearRegression()\n",
        "modelo = lr.fit(X_treino, y_treino)\n"
      ],
      "metadata": {
        "id": "NLlArxIVZopS"
      },
      "execution_count": null,
      "outputs": []
    },
    {
      "cell_type": "code",
      "source": [
        "#coeficientes da regressao linear multipla \n",
        "print('Coeficientes do modelo: ',modelo.coef_)"
      ],
      "metadata": {
        "colab": {
          "base_uri": "https://localhost:8080/"
        },
        "id": "bDSKTWdEau-U",
        "outputId": "aef991ca-aba8-4176-c184-141f7b3e93e4"
      },
      "execution_count": null,
      "outputs": [
        {
          "output_type": "stream",
          "name": "stdout",
          "text": [
            "Coeficientes do modelo:  [10.91586089  7.074642    9.69391531]\n"
          ]
        }
      ]
    },
    {
      "cell_type": "code",
      "source": [
        "#Intercepto da regressao linear multipla \n",
        "print('Intercepto do modelo: ',modelo.intercept_)"
      ],
      "metadata": {
        "colab": {
          "base_uri": "https://localhost:8080/"
        },
        "id": "kTNeXrC-bir9",
        "outputId": "68d45467-91be-4219-a8d8-341175e8af04"
      },
      "execution_count": null,
      "outputs": [
        {
          "output_type": "stream",
          "name": "stdout",
          "text": [
            "Intercepto do modelo:  66.77239925918903\n"
          ]
        }
      ]
    },
    {
      "cell_type": "code",
      "source": [
        "#verificando valores arredondados\n",
        "print(round(10.91586089,2),round(7.074642,2),round(9.69391531,2))\n",
        "print(round(66.77239925918903,2))"
      ],
      "metadata": {
        "colab": {
          "base_uri": "https://localhost:8080/"
        },
        "id": "Yrp6RMnrbJX4",
        "outputId": "35cf02a1-0144-4423-fc72-8a8256d04d62"
      },
      "execution_count": null,
      "outputs": [
        {
          "output_type": "stream",
          "name": "stdout",
          "text": [
            "10.92 7.07 9.69\n",
            "66.77\n"
          ]
        }
      ]
    },
    {
      "cell_type": "markdown",
      "source": [
        "Seguindo a ordem das variáveis no conjunto, os coeficientes para a variáveis são (arredondando em 2 cadas decimais):  ENGINESIZE é 10.92, para a variável CYLINDERS é 7.07 e para FUELCONSCOMB é 9.69.  \n",
        "\n",
        "O valor do intercepto (também arredondando em 2 casas decimais) é: 66.77. \n",
        "\n",
        "Considerando esses valores a Equação final da regressão múltipla é: \n",
        "* y = 10.92 x1 + 7.07 x2 + 9.69 x3 + 66.77"
      ],
      "metadata": {
        "id": "1XoI6fHha5g3"
      }
    },
    {
      "cell_type": "code",
      "source": [
        "y_predito = modelo.predict(X_teste)\n",
        "print('O R2-Score obtido para Regressao Linear Multipla é: ', round(r2_score(y_teste,y_predito),2))"
      ],
      "metadata": {
        "colab": {
          "base_uri": "https://localhost:8080/"
        },
        "id": "rtqrqp_na4R_",
        "outputId": "de47b955-84d4-4863-ac8f-f60a50ce9032"
      },
      "execution_count": null,
      "outputs": [
        {
          "output_type": "stream",
          "name": "stdout",
          "text": [
            "O R2-Score obtido para Regressao Linear Multipla é:  0.88\n"
          ]
        }
      ]
    },
    {
      "cell_type": "markdown",
      "source": [
        "O valor obtido considerando as 3 variáveis possuiu um R2-Score bom, sobretudo considerando que ele foi maior que os obtidos pelas regressões lineares  simples."
      ],
      "metadata": {
        "id": "DlRReaDscm2n"
      }
    },
    {
      "cell_type": "markdown",
      "source": [
        "**Conclusões**\n",
        "\n",
        "Neste trabalho foi realizada a criação de modelos de regressão linear a partir do conjunto de dados proposto. A etapa de exploração dos dados permitiu a análise das correlações de Pearson das variáveis independentes do conjunto com a variável dependente, a CO2EMISSIONS, a qual é correspondente aos valores medidos de consumo de CO2. As variáveis analisadas apresentaram correlações altas com a CO2EMISSIONS. Uma delas, a FUELCONSUMPTION_COMB_MPG apresentou uma correlação alta negativa, mas as demais foram positivas. \n",
        "\n",
        "Do conjunto foram selecionadas 3 variáveis independentes para as análises de modelos de regressão, as quais foram: ENGINESIZE, CYLINDERS e FUELCONSUMTION_COMB (renomeada para FUELCONSCOMB). Todas as 3 possuíram alta correlação positiva com a variável dependente. As correlações de Pearson obtidas por cada uma delas foram aproximadamente: \n",
        "* ENGINESIZE : 0.87\n",
        "* CYLINDERS : 0.85\n",
        "* FUELCONSCOMB : 0.89\n",
        "\n",
        "Foram verificados os desempenhos dos modelos de regressão linear para cada uma delas e a variável predita CO2EMISSIONS. Foram utilizados conjuntos de treino correspondendo a quantidade de 70% dos dados e o de teste a 30% deles. O modelo que alcançou o melhor resultado foi obtido pelo FUELCONSCOMB & CO2EMISSIONS. Este obteve o resultado de R2-Score de 0.8, seguido pelo modelo da combinação ENGINESIZE & CO2EMISSIONS, com 0.78 e por último o CYLINDERS & CO2EMISSIONS com 0.74. O interessante de observar é que quanto mais correlacionada foi a variável com a CO2EMISSIONS, maior o valor de R2-Score encontrado pelo modelo de regressão em função dessa variável.  \n",
        "\n",
        "Em seguida foi feito um modelo de regressão linear múltipla. Este apresentou um resultado de R2-Score de 0.88, o qual foi maior que os das regressões lineares simples. Isto indica que nesta atividade para os dados utilizados o modelo de regressão linear formado a partir de várias variáveis apresentou uma maior capacidade de generalização que modelos com apenas uma variável."
      ],
      "metadata": {
        "id": "G0aXubSIeFN5"
      }
    }
  ]
}